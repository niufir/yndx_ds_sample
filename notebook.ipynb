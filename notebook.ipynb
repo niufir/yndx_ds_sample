{
 "cells": [
  {
   "cell_type": "markdown",
   "source": [
    "Source:\n",
    "https://github.com/niufir/yndx_ds_sample"
   ],
   "metadata": {
    "collapsed": false
   }
  },
  {
   "cell_type": "markdown",
   "metadata": {},
   "source": [
    "# Отток клиентов"
   ]
  },
  {
   "cell_type": "markdown",
   "metadata": {},
   "source": [
    "Из «Бета-Банка» стали уходить клиенты. Каждый месяц. Немного, но заметно. Банковские маркетологи посчитали: сохранять текущих клиентов дешевле, чем привлекать новых.\n",
    "\n",
    "Нужно спрогнозировать, уйдёт клиент из банка в ближайшее время или нет. Вам предоставлены исторические данные о поведении клиентов и расторжении договоров с банком.\n",
    "\n",
    "Постройте модель с предельно большим значением *F1*-меры. Чтобы сдать проект успешно, нужно довести метрику до 0.59. Проверьте *F1*-меру на тестовой выборке самостоятельно.\n",
    "\n",
    "Дополнительно измеряйте *AUC-ROC*, сравнивайте её значение с *F1*-мерой.\n",
    "\n",
    "Источник данных: [https://www.kaggle.com/barelydedicated/bank-customer-churn-modeling](https://www.kaggle.com/barelydedicated/bank-customer-churn-modeling)"
   ]
  },
  {
   "cell_type": "markdown",
   "metadata": {},
   "source": [
    "    ## Подготовка данных"
   ]
  },
  {
   "cell_type": "code",
   "execution_count": 2,
   "metadata": {},
   "outputs": [],
   "source": [
    "import numpy as np\n",
    "import pandas as pd\n",
    "import seaborn as sns\n",
    "import matplotlib.pyplot as pypl\n",
    "from scipy.stats import spearmanr\n",
    "import os\n",
    "import sys\n",
    "from sklearn.model_selection import train_test_split\n",
    "from sklearn.tree import DecisionTreeClassifier\n",
    "from sklearn.metrics import mean_squared_error\n",
    "from sklearn.metrics import accuracy_score\n",
    "from sklearn.ensemble import RandomForestClassifier\n",
    "from pandas import  DataFrame\n",
    "from sklearn.linear_model import LinearRegression,LogisticRegression\n",
    "from sklearn.preprocessing import StandardScaler\n",
    "from sklearn.metrics import f1_score,recall_score\n",
    "from sklearn.utils import shuffle\n",
    "from sklearn.metrics import roc_curve\n",
    "from sklearn.metrics import roc_auc_score\n",
    "from sklearn.metrics import RocCurveDisplay\n",
    "import matplotlib.pyplot as plt\n",
    "from sklearn.ensemble import RandomForestRegressor\n",
    "from sklearn.metrics import mean_absolute_error\n"
   ]
  },
  {
   "cell_type": "markdown",
   "metadata": {},
   "source": [
    "# Чтение данных"
   ]
  },
  {
   "cell_type": "code",
   "execution_count": 3,
   "metadata": {},
   "outputs": [],
   "source": [
    "def NullsStats(df: DataFrame) -> list[DataFrame]:\n",
    "    df_na_sum = df.isna().sum()\n",
    "    s_na_persent = df_na_sum / df.shape[0] * 100\n",
    "    df_nuls = pd.DataFrame({'counts': df_na_sum, 'percent': s_na_persent})\n",
    "    return [df_nuls, df_nuls.query('percent>0')]\n",
    "\n",
    "\n",
    "path_dataset = r'Churn.csv'\n",
    "if not os.path.exists(path_dataset):\n",
    "    path_dataset = '/datasets/Churn.csv'\n",
    "\n",
    "df = pd.read_csv(path_dataset, sep=',')"
   ]
  },
  {
   "cell_type": "code",
   "execution_count": 4,
   "metadata": {},
   "outputs": [
    {
     "data": {
      "text/plain": "   RowNumber  CustomerId   Surname  CreditScore Geography  Gender  Age  \\\n0          1    15634602  Hargrave          619    France  Female   42   \n1          2    15647311      Hill          608     Spain  Female   41   \n2          3    15619304      Onio          502    France  Female   42   \n3          4    15701354      Boni          699    France  Female   39   \n4          5    15737888  Mitchell          850     Spain  Female   43   \n5          6    15574012       Chu          645     Spain    Male   44   \n6          7    15592531  Bartlett          822    France    Male   50   \n7          8    15656148    Obinna          376   Germany  Female   29   \n8          9    15792365        He          501    France    Male   44   \n9         10    15592389        H?          684    France    Male   27   \n\n   Tenure    Balance  NumOfProducts  HasCrCard  IsActiveMember  \\\n0     2.0       0.00              1          1               1   \n1     1.0   83807.86              1          0               1   \n2     8.0  159660.80              3          1               0   \n3     1.0       0.00              2          0               0   \n4     2.0  125510.82              1          1               1   \n5     8.0  113755.78              2          1               0   \n6     7.0       0.00              2          1               1   \n7     4.0  115046.74              4          1               0   \n8     4.0  142051.07              2          0               1   \n9     2.0  134603.88              1          1               1   \n\n   EstimatedSalary  Exited  \n0        101348.88       1  \n1        112542.58       0  \n2        113931.57       1  \n3         93826.63       0  \n4         79084.10       0  \n5        149756.71       1  \n6         10062.80       0  \n7        119346.88       1  \n8         74940.50       0  \n9         71725.73       0  ",
      "text/html": "<div>\n<style scoped>\n    .dataframe tbody tr th:only-of-type {\n        vertical-align: middle;\n    }\n\n    .dataframe tbody tr th {\n        vertical-align: top;\n    }\n\n    .dataframe thead th {\n        text-align: right;\n    }\n</style>\n<table border=\"1\" class=\"dataframe\">\n  <thead>\n    <tr style=\"text-align: right;\">\n      <th></th>\n      <th>RowNumber</th>\n      <th>CustomerId</th>\n      <th>Surname</th>\n      <th>CreditScore</th>\n      <th>Geography</th>\n      <th>Gender</th>\n      <th>Age</th>\n      <th>Tenure</th>\n      <th>Balance</th>\n      <th>NumOfProducts</th>\n      <th>HasCrCard</th>\n      <th>IsActiveMember</th>\n      <th>EstimatedSalary</th>\n      <th>Exited</th>\n    </tr>\n  </thead>\n  <tbody>\n    <tr>\n      <th>0</th>\n      <td>1</td>\n      <td>15634602</td>\n      <td>Hargrave</td>\n      <td>619</td>\n      <td>France</td>\n      <td>Female</td>\n      <td>42</td>\n      <td>2.0</td>\n      <td>0.00</td>\n      <td>1</td>\n      <td>1</td>\n      <td>1</td>\n      <td>101348.88</td>\n      <td>1</td>\n    </tr>\n    <tr>\n      <th>1</th>\n      <td>2</td>\n      <td>15647311</td>\n      <td>Hill</td>\n      <td>608</td>\n      <td>Spain</td>\n      <td>Female</td>\n      <td>41</td>\n      <td>1.0</td>\n      <td>83807.86</td>\n      <td>1</td>\n      <td>0</td>\n      <td>1</td>\n      <td>112542.58</td>\n      <td>0</td>\n    </tr>\n    <tr>\n      <th>2</th>\n      <td>3</td>\n      <td>15619304</td>\n      <td>Onio</td>\n      <td>502</td>\n      <td>France</td>\n      <td>Female</td>\n      <td>42</td>\n      <td>8.0</td>\n      <td>159660.80</td>\n      <td>3</td>\n      <td>1</td>\n      <td>0</td>\n      <td>113931.57</td>\n      <td>1</td>\n    </tr>\n    <tr>\n      <th>3</th>\n      <td>4</td>\n      <td>15701354</td>\n      <td>Boni</td>\n      <td>699</td>\n      <td>France</td>\n      <td>Female</td>\n      <td>39</td>\n      <td>1.0</td>\n      <td>0.00</td>\n      <td>2</td>\n      <td>0</td>\n      <td>0</td>\n      <td>93826.63</td>\n      <td>0</td>\n    </tr>\n    <tr>\n      <th>4</th>\n      <td>5</td>\n      <td>15737888</td>\n      <td>Mitchell</td>\n      <td>850</td>\n      <td>Spain</td>\n      <td>Female</td>\n      <td>43</td>\n      <td>2.0</td>\n      <td>125510.82</td>\n      <td>1</td>\n      <td>1</td>\n      <td>1</td>\n      <td>79084.10</td>\n      <td>0</td>\n    </tr>\n    <tr>\n      <th>5</th>\n      <td>6</td>\n      <td>15574012</td>\n      <td>Chu</td>\n      <td>645</td>\n      <td>Spain</td>\n      <td>Male</td>\n      <td>44</td>\n      <td>8.0</td>\n      <td>113755.78</td>\n      <td>2</td>\n      <td>1</td>\n      <td>0</td>\n      <td>149756.71</td>\n      <td>1</td>\n    </tr>\n    <tr>\n      <th>6</th>\n      <td>7</td>\n      <td>15592531</td>\n      <td>Bartlett</td>\n      <td>822</td>\n      <td>France</td>\n      <td>Male</td>\n      <td>50</td>\n      <td>7.0</td>\n      <td>0.00</td>\n      <td>2</td>\n      <td>1</td>\n      <td>1</td>\n      <td>10062.80</td>\n      <td>0</td>\n    </tr>\n    <tr>\n      <th>7</th>\n      <td>8</td>\n      <td>15656148</td>\n      <td>Obinna</td>\n      <td>376</td>\n      <td>Germany</td>\n      <td>Female</td>\n      <td>29</td>\n      <td>4.0</td>\n      <td>115046.74</td>\n      <td>4</td>\n      <td>1</td>\n      <td>0</td>\n      <td>119346.88</td>\n      <td>1</td>\n    </tr>\n    <tr>\n      <th>8</th>\n      <td>9</td>\n      <td>15792365</td>\n      <td>He</td>\n      <td>501</td>\n      <td>France</td>\n      <td>Male</td>\n      <td>44</td>\n      <td>4.0</td>\n      <td>142051.07</td>\n      <td>2</td>\n      <td>0</td>\n      <td>1</td>\n      <td>74940.50</td>\n      <td>0</td>\n    </tr>\n    <tr>\n      <th>9</th>\n      <td>10</td>\n      <td>15592389</td>\n      <td>H?</td>\n      <td>684</td>\n      <td>France</td>\n      <td>Male</td>\n      <td>27</td>\n      <td>2.0</td>\n      <td>134603.88</td>\n      <td>1</td>\n      <td>1</td>\n      <td>1</td>\n      <td>71725.73</td>\n      <td>0</td>\n    </tr>\n  </tbody>\n</table>\n</div>"
     },
     "execution_count": 4,
     "metadata": {},
     "output_type": "execute_result"
    }
   ],
   "source": [
    "df.head(10)"
   ]
  },
  {
   "cell_type": "code",
   "execution_count": 5,
   "metadata": {},
   "outputs": [
    {
     "data": {
      "text/plain": "Index(['RowNumber', 'CustomerId', 'Surname', 'CreditScore', 'Geography',\n       'Gender', 'Age', 'Tenure', 'Balance', 'NumOfProducts', 'HasCrCard',\n       'IsActiveMember', 'EstimatedSalary', 'Exited'],\n      dtype='object')"
     },
     "execution_count": 5,
     "metadata": {},
     "output_type": "execute_result"
    }
   ],
   "source": [
    "df.columns"
   ]
  },
  {
   "cell_type": "code",
   "execution_count": 6,
   "metadata": {},
   "outputs": [
    {
     "name": "stdout",
     "output_type": "stream",
     "text": [
      "Index(['row_number', 'customer_id', 'surname', 'credit_score', 'geography',\n",
      "       'gender', 'age', 'tenure', 'balance', 'num_of_products', 'has_cr_card',\n",
      "       'is_active_member', 'estimated_salary', 'exited'],\n",
      "      dtype='object')\n"
     ]
    }
   ],
   "source": [
    "map_names = {\"RowNumber\":'row_number',\"CustomerId\":\"customer_id\",'Surname':'surname','CreditScore':'credit_score',\n",
    "             'Geography':'geography','Gender':'gender','Age':'age','Tenure':'tenure','Balance':'balance',\n",
    "             'NumOfProducts':'num_of_products','HasCrCard':'has_cr_card','IsActiveMember':'is_active_member',\n",
    "             'EstimatedSalary':'estimated_salary','Exited':'exited'                                                                                    }\n",
    "df = df.rename(columns=  map_names)\n",
    "print(df.columns)"
   ]
  },
  {
   "cell_type": "code",
   "execution_count": 7,
   "metadata": {},
   "outputs": [
    {
     "name": "stdout",
     "output_type": "stream",
     "text": [
      "(10000, 14)\n"
     ]
    },
    {
     "data": {
      "text/plain": "row_number            int64\ncustomer_id           int64\nsurname              object\ncredit_score          int64\ngeography            object\ngender               object\nage                   int64\ntenure              float64\nbalance             float64\nnum_of_products       int64\nhas_cr_card           int64\nis_active_member      int64\nestimated_salary    float64\nexited                int64\ndtype: object"
     },
     "metadata": {},
     "output_type": "display_data"
    }
   ],
   "source": [
    "print(df.shape)\n",
    "display( df.dtypes )"
   ]
  },
  {
   "cell_type": "code",
   "execution_count": 8,
   "metadata": {},
   "outputs": [
    {
     "data": {
      "text/plain": "        row_number   customer_id  credit_score           age       tenure  \\\ncount  10000.00000  1.000000e+04  10000.000000  10000.000000  9091.000000   \nmean    5000.50000  1.569094e+07    650.528800     38.921800     4.997690   \nstd     2886.89568  7.193619e+04     96.653299     10.487806     2.894723   \nmin        1.00000  1.556570e+07    350.000000     18.000000     0.000000   \n25%     2500.75000  1.562853e+07    584.000000     32.000000     2.000000   \n50%     5000.50000  1.569074e+07    652.000000     37.000000     5.000000   \n75%     7500.25000  1.575323e+07    718.000000     44.000000     7.000000   \nmax    10000.00000  1.581569e+07    850.000000     92.000000    10.000000   \n\n             balance  num_of_products  has_cr_card  is_active_member  \\\ncount   10000.000000     10000.000000  10000.00000      10000.000000   \nmean    76485.889288         1.530200      0.70550          0.515100   \nstd     62397.405202         0.581654      0.45584          0.499797   \nmin         0.000000         1.000000      0.00000          0.000000   \n25%         0.000000         1.000000      0.00000          0.000000   \n50%     97198.540000         1.000000      1.00000          1.000000   \n75%    127644.240000         2.000000      1.00000          1.000000   \nmax    250898.090000         4.000000      1.00000          1.000000   \n\n       estimated_salary        exited  \ncount      10000.000000  10000.000000  \nmean      100090.239881      0.203700  \nstd        57510.492818      0.402769  \nmin           11.580000      0.000000  \n25%        51002.110000      0.000000  \n50%       100193.915000      0.000000  \n75%       149388.247500      0.000000  \nmax       199992.480000      1.000000  ",
      "text/html": "<div>\n<style scoped>\n    .dataframe tbody tr th:only-of-type {\n        vertical-align: middle;\n    }\n\n    .dataframe tbody tr th {\n        vertical-align: top;\n    }\n\n    .dataframe thead th {\n        text-align: right;\n    }\n</style>\n<table border=\"1\" class=\"dataframe\">\n  <thead>\n    <tr style=\"text-align: right;\">\n      <th></th>\n      <th>row_number</th>\n      <th>customer_id</th>\n      <th>credit_score</th>\n      <th>age</th>\n      <th>tenure</th>\n      <th>balance</th>\n      <th>num_of_products</th>\n      <th>has_cr_card</th>\n      <th>is_active_member</th>\n      <th>estimated_salary</th>\n      <th>exited</th>\n    </tr>\n  </thead>\n  <tbody>\n    <tr>\n      <th>count</th>\n      <td>10000.00000</td>\n      <td>1.000000e+04</td>\n      <td>10000.000000</td>\n      <td>10000.000000</td>\n      <td>9091.000000</td>\n      <td>10000.000000</td>\n      <td>10000.000000</td>\n      <td>10000.00000</td>\n      <td>10000.000000</td>\n      <td>10000.000000</td>\n      <td>10000.000000</td>\n    </tr>\n    <tr>\n      <th>mean</th>\n      <td>5000.50000</td>\n      <td>1.569094e+07</td>\n      <td>650.528800</td>\n      <td>38.921800</td>\n      <td>4.997690</td>\n      <td>76485.889288</td>\n      <td>1.530200</td>\n      <td>0.70550</td>\n      <td>0.515100</td>\n      <td>100090.239881</td>\n      <td>0.203700</td>\n    </tr>\n    <tr>\n      <th>std</th>\n      <td>2886.89568</td>\n      <td>7.193619e+04</td>\n      <td>96.653299</td>\n      <td>10.487806</td>\n      <td>2.894723</td>\n      <td>62397.405202</td>\n      <td>0.581654</td>\n      <td>0.45584</td>\n      <td>0.499797</td>\n      <td>57510.492818</td>\n      <td>0.402769</td>\n    </tr>\n    <tr>\n      <th>min</th>\n      <td>1.00000</td>\n      <td>1.556570e+07</td>\n      <td>350.000000</td>\n      <td>18.000000</td>\n      <td>0.000000</td>\n      <td>0.000000</td>\n      <td>1.000000</td>\n      <td>0.00000</td>\n      <td>0.000000</td>\n      <td>11.580000</td>\n      <td>0.000000</td>\n    </tr>\n    <tr>\n      <th>25%</th>\n      <td>2500.75000</td>\n      <td>1.562853e+07</td>\n      <td>584.000000</td>\n      <td>32.000000</td>\n      <td>2.000000</td>\n      <td>0.000000</td>\n      <td>1.000000</td>\n      <td>0.00000</td>\n      <td>0.000000</td>\n      <td>51002.110000</td>\n      <td>0.000000</td>\n    </tr>\n    <tr>\n      <th>50%</th>\n      <td>5000.50000</td>\n      <td>1.569074e+07</td>\n      <td>652.000000</td>\n      <td>37.000000</td>\n      <td>5.000000</td>\n      <td>97198.540000</td>\n      <td>1.000000</td>\n      <td>1.00000</td>\n      <td>1.000000</td>\n      <td>100193.915000</td>\n      <td>0.000000</td>\n    </tr>\n    <tr>\n      <th>75%</th>\n      <td>7500.25000</td>\n      <td>1.575323e+07</td>\n      <td>718.000000</td>\n      <td>44.000000</td>\n      <td>7.000000</td>\n      <td>127644.240000</td>\n      <td>2.000000</td>\n      <td>1.00000</td>\n      <td>1.000000</td>\n      <td>149388.247500</td>\n      <td>0.000000</td>\n    </tr>\n    <tr>\n      <th>max</th>\n      <td>10000.00000</td>\n      <td>1.581569e+07</td>\n      <td>850.000000</td>\n      <td>92.000000</td>\n      <td>10.000000</td>\n      <td>250898.090000</td>\n      <td>4.000000</td>\n      <td>1.00000</td>\n      <td>1.000000</td>\n      <td>199992.480000</td>\n      <td>1.000000</td>\n    </tr>\n  </tbody>\n</table>\n</div>"
     },
     "execution_count": 8,
     "metadata": {},
     "output_type": "execute_result"
    }
   ],
   "source": [
    "df.describe()"
   ]
  },
  {
   "cell_type": "code",
   "execution_count": 9,
   "metadata": {},
   "outputs": [
    {
     "name": "stdout",
     "output_type": "stream",
     "text": [
      "                  counts  percent\n",
      "row_number             0     0.00\n",
      "customer_id            0     0.00\n",
      "surname                0     0.00\n",
      "credit_score           0     0.00\n",
      "geography              0     0.00\n",
      "gender                 0     0.00\n",
      "age                    0     0.00\n",
      "tenure               909     9.09\n",
      "balance                0     0.00\n",
      "num_of_products        0     0.00\n",
      "has_cr_card            0     0.00\n",
      "is_active_member       0     0.00\n",
      "estimated_salary       0     0.00\n",
      "exited                 0     0.00\n"
     ]
    }
   ],
   "source": [
    "print( NullsStats( df )[0] )"
   ]
  },
  {
   "cell_type": "code",
   "execution_count": 10,
   "metadata": {},
   "outputs": [
    {
     "data": {
      "text/plain": "1.0     952\n2.0     950\n8.0     933\n3.0     928\n5.0     927\n7.0     925\n4.0     885\n9.0     882\n6.0     881\n10.0    446\n0.0     382\nName: tenure, dtype: int64"
     },
     "execution_count": 10,
     "metadata": {},
     "output_type": "execute_result"
    }
   ],
   "source": [
    "df['tenure'].value_counts()"
   ]
  },
  {
   "cell_type": "code",
   "execution_count": 11,
   "metadata": {},
   "outputs": [
    {
     "data": {
      "text/plain": "     row_number  customer_id    surname  credit_score geography  gender  age  \\\n30           31     15589475    Azikiwe           591     Spain  Female   39   \n48           49     15766205        Yin           550   Germany    Male   38   \n51           52     15768193  Trevisani           585   Germany    Male   36   \n53           54     15702298   Parkhill           655   Germany    Male   41   \n60           61     15651280     Hunter           742   Germany    Male   35   \n82           83     15641732      Mills           543    France  Female   36   \n85           86     15805254    Ndukaku           652     Spain  Female   75   \n94           95     15676966      Capon           730     Spain    Male   42   \n99          100     15633059    Fanucci           413    France    Male   34   \n111         112     15665790   Rowntree           538   Germany    Male   39   \n\n     tenure    balance  num_of_products  has_cr_card  is_active_member  \\\n30      NaN       0.00                3            1                 0   \n48      NaN  103391.38                1            0                 1   \n51      NaN  146050.97                2            0                 0   \n53      NaN  125561.97                1            0                 0   \n60      NaN  136857.00                1            0                 0   \n82      NaN       0.00                2            0                 0   \n85      NaN       0.00                2            1                 1   \n94      NaN       0.00                2            0                 1   \n99      NaN       0.00                2            0                 0   \n111     NaN  108055.10                2            1                 0   \n\n     estimated_salary  exited  \n30          140469.38       1  \n48           90878.13       0  \n51           86424.57       0  \n53          164040.94       1  \n60           84509.57       0  \n82           26019.59       0  \n85          114675.75       0  \n94           85982.47       0  \n99            6534.18       0  \n111          27231.26       0  ",
      "text/html": "<div>\n<style scoped>\n    .dataframe tbody tr th:only-of-type {\n        vertical-align: middle;\n    }\n\n    .dataframe tbody tr th {\n        vertical-align: top;\n    }\n\n    .dataframe thead th {\n        text-align: right;\n    }\n</style>\n<table border=\"1\" class=\"dataframe\">\n  <thead>\n    <tr style=\"text-align: right;\">\n      <th></th>\n      <th>row_number</th>\n      <th>customer_id</th>\n      <th>surname</th>\n      <th>credit_score</th>\n      <th>geography</th>\n      <th>gender</th>\n      <th>age</th>\n      <th>tenure</th>\n      <th>balance</th>\n      <th>num_of_products</th>\n      <th>has_cr_card</th>\n      <th>is_active_member</th>\n      <th>estimated_salary</th>\n      <th>exited</th>\n    </tr>\n  </thead>\n  <tbody>\n    <tr>\n      <th>30</th>\n      <td>31</td>\n      <td>15589475</td>\n      <td>Azikiwe</td>\n      <td>591</td>\n      <td>Spain</td>\n      <td>Female</td>\n      <td>39</td>\n      <td>NaN</td>\n      <td>0.00</td>\n      <td>3</td>\n      <td>1</td>\n      <td>0</td>\n      <td>140469.38</td>\n      <td>1</td>\n    </tr>\n    <tr>\n      <th>48</th>\n      <td>49</td>\n      <td>15766205</td>\n      <td>Yin</td>\n      <td>550</td>\n      <td>Germany</td>\n      <td>Male</td>\n      <td>38</td>\n      <td>NaN</td>\n      <td>103391.38</td>\n      <td>1</td>\n      <td>0</td>\n      <td>1</td>\n      <td>90878.13</td>\n      <td>0</td>\n    </tr>\n    <tr>\n      <th>51</th>\n      <td>52</td>\n      <td>15768193</td>\n      <td>Trevisani</td>\n      <td>585</td>\n      <td>Germany</td>\n      <td>Male</td>\n      <td>36</td>\n      <td>NaN</td>\n      <td>146050.97</td>\n      <td>2</td>\n      <td>0</td>\n      <td>0</td>\n      <td>86424.57</td>\n      <td>0</td>\n    </tr>\n    <tr>\n      <th>53</th>\n      <td>54</td>\n      <td>15702298</td>\n      <td>Parkhill</td>\n      <td>655</td>\n      <td>Germany</td>\n      <td>Male</td>\n      <td>41</td>\n      <td>NaN</td>\n      <td>125561.97</td>\n      <td>1</td>\n      <td>0</td>\n      <td>0</td>\n      <td>164040.94</td>\n      <td>1</td>\n    </tr>\n    <tr>\n      <th>60</th>\n      <td>61</td>\n      <td>15651280</td>\n      <td>Hunter</td>\n      <td>742</td>\n      <td>Germany</td>\n      <td>Male</td>\n      <td>35</td>\n      <td>NaN</td>\n      <td>136857.00</td>\n      <td>1</td>\n      <td>0</td>\n      <td>0</td>\n      <td>84509.57</td>\n      <td>0</td>\n    </tr>\n    <tr>\n      <th>82</th>\n      <td>83</td>\n      <td>15641732</td>\n      <td>Mills</td>\n      <td>543</td>\n      <td>France</td>\n      <td>Female</td>\n      <td>36</td>\n      <td>NaN</td>\n      <td>0.00</td>\n      <td>2</td>\n      <td>0</td>\n      <td>0</td>\n      <td>26019.59</td>\n      <td>0</td>\n    </tr>\n    <tr>\n      <th>85</th>\n      <td>86</td>\n      <td>15805254</td>\n      <td>Ndukaku</td>\n      <td>652</td>\n      <td>Spain</td>\n      <td>Female</td>\n      <td>75</td>\n      <td>NaN</td>\n      <td>0.00</td>\n      <td>2</td>\n      <td>1</td>\n      <td>1</td>\n      <td>114675.75</td>\n      <td>0</td>\n    </tr>\n    <tr>\n      <th>94</th>\n      <td>95</td>\n      <td>15676966</td>\n      <td>Capon</td>\n      <td>730</td>\n      <td>Spain</td>\n      <td>Male</td>\n      <td>42</td>\n      <td>NaN</td>\n      <td>0.00</td>\n      <td>2</td>\n      <td>0</td>\n      <td>1</td>\n      <td>85982.47</td>\n      <td>0</td>\n    </tr>\n    <tr>\n      <th>99</th>\n      <td>100</td>\n      <td>15633059</td>\n      <td>Fanucci</td>\n      <td>413</td>\n      <td>France</td>\n      <td>Male</td>\n      <td>34</td>\n      <td>NaN</td>\n      <td>0.00</td>\n      <td>2</td>\n      <td>0</td>\n      <td>0</td>\n      <td>6534.18</td>\n      <td>0</td>\n    </tr>\n    <tr>\n      <th>111</th>\n      <td>112</td>\n      <td>15665790</td>\n      <td>Rowntree</td>\n      <td>538</td>\n      <td>Germany</td>\n      <td>Male</td>\n      <td>39</td>\n      <td>NaN</td>\n      <td>108055.10</td>\n      <td>2</td>\n      <td>1</td>\n      <td>0</td>\n      <td>27231.26</td>\n      <td>0</td>\n    </tr>\n  </tbody>\n</table>\n</div>"
     },
     "execution_count": 11,
     "metadata": {},
     "output_type": "execute_result"
    }
   ],
   "source": [
    "df[df['tenure'].isna()].head(10)"
   ]
  },
  {
   "cell_type": "markdown",
   "metadata": {},
   "source": [
    "Данные без пропусков находятся в диапазоне [0..10]\n",
    "Пропуски в колонке tenure ( сколько лет человек является клиентом банка ) - не похоже, что забыли 0. Оставлю как есть - алгоритмы основанные на деревьях решений умеют работать с такими данными"
   ]
  },
  {
   "cell_type": "code",
   "execution_count": 12,
   "metadata": {},
   "outputs": [
    {
     "name": "stdout",
     "output_type": "stream",
     "text": [
      "count dublicates in data: 0\n"
     ]
    }
   ],
   "source": [
    "print('count dublicates in data:', df.duplicated().sum())"
   ]
  },
  {
   "cell_type": "markdown",
   "metadata": {},
   "source": [
    "Размер данных - 10000 строк\n",
    "Явных дубликатов в данных нет.\n",
    "Пропусков мало - только 909 (9%) в колонке tenure ( сколько лет человек является клиентом банка ). Может стоит заменить на 0"
   ]
  },
  {
   "cell_type": "code",
   "execution_count": 13,
   "metadata": {},
   "outputs": [
    {
     "data": {
      "text/plain": "1.0     952\n2.0     950\n8.0     933\n3.0     928\n5.0     927\n7.0     925\n4.0     885\n9.0     882\n6.0     881\n10.0    446\n0.0     382\nName: tenure, dtype: int64"
     },
     "execution_count": 13,
     "metadata": {},
     "output_type": "execute_result"
    }
   ],
   "source": [
    "df['tenure'].value_counts()"
   ]
  },
  {
   "cell_type": "markdown",
   "metadata": {},
   "source": [
    "## Предобарботка данных\n"
   ]
  },
  {
   "cell_type": "code",
   "execution_count": 14,
   "metadata": {},
   "outputs": [
    {
     "data": {
      "text/plain": "Index(['row_number', 'customer_id', 'surname', 'credit_score', 'geography',\n       'gender', 'age', 'tenure', 'balance', 'num_of_products', 'has_cr_card',\n       'is_active_member', 'estimated_salary', 'exited'],\n      dtype='object')"
     },
     "execution_count": 14,
     "metadata": {},
     "output_type": "execute_result"
    }
   ],
   "source": [
    "df.columns"
   ]
  },
  {
   "cell_type": "markdown",
   "metadata": {},
   "source": [
    "конвентирую gender и geography через onehotencoder"
   ]
  },
  {
   "cell_type": "code",
   "execution_count": 15,
   "metadata": {},
   "outputs": [],
   "source": [
    "df['gender'] = pd.get_dummies(df['gender'],drop_first=True).astype(int)"
   ]
  },
  {
   "cell_type": "code",
   "execution_count": 16,
   "metadata": {},
   "outputs": [
    {
     "name": "stdout",
     "output_type": "stream",
     "text": [
      "(10000, 2)\n",
      "Index(['row_number', 'customer_id', 'surname', 'credit_score', 'gender', 'age',\n",
      "       'tenure', 'balance', 'num_of_products', 'has_cr_card',\n",
      "       'is_active_member', 'estimated_salary', 'exited', 'germany_dumm',\n",
      "       'spain_dumm'],\n",
      "      dtype='object')\n"
     ]
    }
   ],
   "source": [
    "geo_dummy =pd.get_dummies(df['geography'],drop_first=True)\n",
    "size_old = df.shape[0]\n",
    "print(geo_dummy.shape)\n",
    "df = pd.concat([df.drop('geography',axis=1),geo_dummy], axis=1)\n",
    "map_names = {\"Germany\":'germany_dumm',\"Spain\":\"spain_dumm\"                                                                                  }\n",
    "df = df.rename(columns=  map_names)\n",
    "print(df.columns)\n",
    "assert size_old == df.shape[0]"
   ]
  },
  {
   "cell_type": "code",
   "execution_count": 17,
   "metadata": {},
   "outputs": [
    {
     "data": {
      "text/plain": "(10000, 15)"
     },
     "execution_count": 17,
     "metadata": {},
     "output_type": "execute_result"
    }
   ],
   "source": [
    "df.shape"
   ]
  },
  {
   "cell_type": "code",
   "execution_count": 18,
   "metadata": {
    "scrolled": true
   },
   "outputs": [
    {
     "data": {
      "text/plain": "0    7963\n1    2037\nName: exited, dtype: int64"
     },
     "execution_count": 18,
     "metadata": {},
     "output_type": "execute_result"
    }
   ],
   "source": [
    "df['exited'].value_counts()"
   ]
  },
  {
   "cell_type": "code",
   "execution_count": 19,
   "metadata": {
    "scrolled": true
   },
   "outputs": [
    {
     "data": {
      "text/plain": "<Figure size 640x480 with 1 Axes>",
      "image/png": "[encoded data removed]"
     },
     "metadata": {},
     "output_type": "display_data"
    }
   ],
   "source": [
    "df['exited'].value_counts().plot(kind='bar',title='Баланс классов для предсказания');"
   ]
  },
  {
   "cell_type": "markdown",
   "metadata": {},
   "source": [
    "выборка не сбалансирована - число уходов составляет 20% от всей выборки"
   ]
  },
  {
   "cell_type": "code",
   "execution_count": 20,
   "metadata": {},
   "outputs": [
    {
     "name": "stdout",
     "output_type": "stream",
     "text": [
      "0.940661093389066\n"
     ]
    }
   ],
   "source": [
    "\n",
    "colls4drop_tenure_train = ['row_number','customer_id','surname','tenure','exited']\n",
    "feature4tenure_train = df[~df['tenure'].isna()].drop(colls4drop_tenure_train,axis=1)\n",
    "target_tenure = df[~df['tenure'].isna()]['tenure']\n",
    "    #.drop(colls4drop_tenure_train,axis=1)\n",
    "\n",
    "mod_reg_tenure = RandomForestRegressor(random_state = 77)\n",
    "mod_reg_tenure.fit(feature4tenure_train, target_tenure)\n",
    "print( mean_absolute_error(target_tenure, mod_reg_tenure.predict(feature4tenure_train)) )\n",
    "\n",
    "\n"
   ]
  },
  {
   "cell_type": "code",
   "execution_count": 21,
   "metadata": {},
   "outputs": [],
   "source": [
    "ix_nulls = df[df['tenure'].isna()].index\n",
    "pred_tenue =  mod_reg_tenure.predict(df[df['tenure'].isna()].drop(colls4drop_tenure_train,axis=1))\n",
    "lm_round = np.vectorize(lambda x: round(x))\n",
    "pred_tenue = lm_round(pred_tenue)\n",
    "df.loc[ix_nulls,'tenure'] = pred_tenue#mod_reg_tenure.predict(df[df['tenure'].isna()].drop(colls4drop_tenure_train,axis=1))\n",
    "\n",
    "# df.loc[ix_nulls,'tenure'] = 0\n",
    "assert df['tenure'].isna().sum() == 0"
   ]
  },
  {
   "cell_type": "code",
   "execution_count": 22,
   "metadata": {},
   "outputs": [
    {
     "data": {
      "text/plain": "array([6, 5, 6, 4, 5, 5, 5, 4, 4, 5])"
     },
     "execution_count": 22,
     "metadata": {},
     "output_type": "execute_result"
    }
   ],
   "source": [
    "pred_tenue[:10]"
   ]
  },
  {
   "cell_type": "code",
   "execution_count": 23,
   "metadata": {},
   "outputs": [
    {
     "data": {
      "text/plain": "5.0     1406\n6.0     1095\n4.0     1068\n2.0      953\n1.0      952\n3.0      942\n7.0      941\n8.0      933\n9.0      882\n10.0     446\n0.0      382\nName: tenure, dtype: int64"
     },
     "metadata": {},
     "output_type": "display_data"
    }
   ],
   "source": [
    "display(df['tenure'].value_counts())"
   ]
  },
  {
   "cell_type": "markdown",
   "metadata": {},
   "source": [
    "\n",
    "- есть дисбаланс классов 7963 против 2037\n",
    "- есть 10 признаков, которые будут использоваться для обучения моделей\n",
    "- пропуски заполнил обученным случайным лесом\n"
   ]
  },
  {
   "cell_type": "markdown",
   "metadata": {},
   "source": [
    "# Иследование моделей"
   ]
  },
  {
   "cell_type": "markdown",
   "metadata": {},
   "source": [
    "## Разбивка датасета"
   ]
  },
  {
   "cell_type": "code",
   "execution_count": 24,
   "metadata": {},
   "outputs": [
    {
     "name": "stdout",
     "output_type": "stream",
     "text": [
      "Index(['credit_score', 'gender', 'age', 'tenure', 'balance', 'num_of_products',\n",
      "       'has_cr_card', 'is_active_member', 'estimated_salary', 'germany_dumm',\n",
      "       'spain_dumm'],\n",
      "      dtype='object')\n"
     ]
    }
   ],
   "source": [
    "target = df['exited']\n",
    "featuer4drop = ['row_number','customer_id', 'surname','exited']\n",
    "df_features = df.drop(featuer4drop, axis=1)\n",
    "print(df_features.columns)\n"
   ]
  },
  {
   "cell_type": "code",
   "execution_count": 25,
   "metadata": {},
   "outputs": [
    {
     "name": "stdout",
     "output_type": "stream",
     "text": [
      "размеры выборок для обучения: (6000, 11) (6000,)\n",
      "размеры выборок для валидации: (2000, 11) (2000,)\n",
      "размеры выборки для теста: (2000, 11) (2000,)\n"
     ]
    }
   ],
   "source": [
    "x_tmp, x_test, y_tmp, y_test = train_test_split(df_features, target, test_size=0.2, train_size=0.8,stratify=target, random_state=42)\n",
    "x_train, x_valid, y_train, y_valid = train_test_split(x_tmp, y_tmp, test_size = 0.25, train_size =0.75, stratify=y_tmp,random_state=42)\n",
    "\n",
    "print(\"размеры выборок для обучения:\", x_train.shape, y_train.shape )\n",
    "print(\"размеры выборок для валидации:\", x_valid.shape, y_valid.shape)\n",
    "print(\"размеры выборки для теста:\", x_test.shape, y_test.shape)"
   ]
  },
  {
   "cell_type": "code",
   "execution_count": 26,
   "metadata": {},
   "outputs": [],
   "source": [
    "dummy_pred = [0]*len(y_valid)"
   ]
  },
  {
   "cell_type": "markdown",
   "metadata": {},
   "source": [
    "## Логистическая регрессия"
   ]
  },
  {
   "cell_type": "markdown",
   "metadata": {},
   "source": [
    "для логистической регресии важно привести диапазоны значений к одному диапазону.\n",
    "сделаем   z- трансформацию"
   ]
  },
  {
   "cell_type": "code",
   "execution_count": 27,
   "metadata": {},
   "outputs": [],
   "source": [
    "def print_scores(true_vals, pred_vals, pred_proba):\n",
    "    print('recall:', recall_score(true_vals, pred_vals))\n",
    "    print('accuracy:', accuracy_score(true_vals, pred_vals) )\n",
    "    print('f1 score:', f1_score( true_vals, pred_vals ) )\n",
    "    if pred_proba is not None:\n",
    "        print('ROC-AUC', roc_auc_score(true_vals, pred_proba[:,1]))\n",
    "    return"
   ]
  },
  {
   "cell_type": "markdown",
   "metadata": {},
   "source": []
  },
  {
   "cell_type": "code",
   "execution_count": 28,
   "metadata": {},
   "outputs": [
    {
     "name": "stdout",
     "output_type": "stream",
     "text": [
      "recall: 0.0\n",
      "accuracy: 0.7965\n",
      "f1 score: 0.0\n"
     ]
    }
   ],
   "source": [
    "print_scores( y_valid, dummy_pred,None )"
   ]
  },
  {
   "cell_type": "code",
   "execution_count": 29,
   "metadata": {},
   "outputs": [
    {
     "name": "stdout",
     "output_type": "stream",
     "text": [
      "размеры выборок для обучения: (6000, 11) (6000,)\n",
      "размеры выборок для валидации: (2000, 11) (2000,)\n",
      "размеры выборки для теста: (2000, 11) (2000,)\n"
     ]
    }
   ],
   "source": [
    "df_features_lg = df_features.copy()\n",
    "df_features_lg['tenure'] = df_features_lg['tenure'].fillna(0);\n",
    "x_tmp, x_test, y_tmp, y_test = train_test_split(df_features_lg, target, test_size=0.2, train_size=0.8,stratify=target, random_state=42)\n",
    "x_train, x_valid, y_train, y_valid = train_test_split(x_tmp, y_tmp, test_size = 0.25, train_size =0.75, stratify=y_tmp,random_state=42)\n",
    "\n",
    "print(\"размеры выборок для обучения:\", x_train.shape, y_train.shape )\n",
    "print(\"размеры выборок для валидации:\", x_valid.shape, y_valid.shape)\n",
    "print(\"размеры выборки для теста:\", x_test.shape, y_test.shape)"
   ]
  },
  {
   "cell_type": "code",
   "execution_count": 30,
   "metadata": {},
   "outputs": [],
   "source": [
    "std_scaler = StandardScaler()\n",
    "sc_x_train = std_scaler.fit_transform(x_train)\n",
    "sc_x_valid = std_scaler.transform(x_valid)\n",
    "sc_x_test = std_scaler.transform(x_test)"
   ]
  },
  {
   "cell_type": "code",
   "execution_count": 31,
   "metadata": {},
   "outputs": [],
   "source": [
    "model = LogisticRegression()\n",
    "model.fit(sc_x_train, y_train)\n",
    "pred = model.predict(sc_x_valid)\n",
    "pred_proba = model.predict_proba(sc_x_valid)\n"
   ]
  },
  {
   "cell_type": "code",
   "execution_count": 32,
   "metadata": {},
   "outputs": [
    {
     "name": "stdout",
     "output_type": "stream",
     "text": [
      "recall: 0.21867321867321868\n",
      "accuracy: 0.81\n",
      "f1 score: 0.3189964157706094\n",
      "ROC-AUC 0.7561706544757392\n"
     ]
    }
   ],
   "source": [
    "print_scores(y_valid, pred,pred_proba )"
   ]
  },
  {
   "cell_type": "markdown",
   "metadata": {},
   "source": [
    "## Дерево решений"
   ]
  },
  {
   "cell_type": "raw",
   "metadata": {},
   "source": [
    "x_tmp, x_test, y_tmp, y_test = train_test_split(df_features, target, test_size=0.2, train_size=0.8,stratify=target, random_state=42)\n",
    "x_train, x_valid, y_train, y_valid = train_test_split(x_tmp, y_tmp, test_size = 0.25, train_size =0.75, stratify=y_tmp,random_state=42)\n",
    "\n",
    "print(\"размеры выборок для обучения:\", x_train.shape, y_train.shape )\n",
    "print(\"размеры выборок для валидации:\", x_valid.shape, y_valid.shape)\n",
    "print(\"размеры выборки для теста:\", x_test.shape, y_test.shape)"
   ]
  },
  {
   "cell_type": "code",
   "execution_count": 33,
   "metadata": {},
   "outputs": [],
   "source": [
    "def searchBestDepth(fn_fabricMakeModel,x_train, y_train,x_valid,y_valid):\n",
    "    top_model = None\n",
    "    top_f1 = 0\n",
    "    top_depth = 0\n",
    "    for depth in range (1,20):\n",
    "        clf = fn_fabricMakeModel(depth)\n",
    "        clf.fit(x_train, y_train)\n",
    "        pred_y = clf.predict(x_valid)\n",
    "        f1 = f1_score(y_valid, pred_y)\n",
    "        print('depth = ', depth, 'f1 = ',f1)\n",
    "        if f1 > top_f1:\n",
    "            top_depth = depth\n",
    "            top_f1 = f1\n",
    "            top_model = clf\n",
    "\n",
    "    return top_model, top_f1, top_depth\n"
   ]
  },
  {
   "cell_type": "code",
   "execution_count": 34,
   "metadata": {
    "scrolled": true
   },
   "outputs": [
    {
     "name": "stdout",
     "output_type": "stream",
     "text": [
      "depth =  1 f1 =  0.0\n",
      "depth =  2 f1 =  0.5007112375533428\n",
      "depth =  3 f1 =  0.38095238095238093\n",
      "depth =  4 f1 =  0.46258503401360546\n",
      "depth =  5 f1 =  0.475548060708263\n",
      "depth =  6 f1 =  0.47018739352640543\n",
      "depth =  7 f1 =  0.5625965996908809\n",
      "depth =  8 f1 =  0.5341426403641882\n",
      "depth =  9 f1 =  0.5449101796407186\n",
      "depth =  10 f1 =  0.5534246575342466\n",
      "depth =  11 f1 =  0.5389048991354467\n",
      "depth =  12 f1 =  0.543448275862069\n",
      "depth =  13 f1 =  0.5267379679144385\n",
      "depth =  14 f1 =  0.5124835742444153\n",
      "depth =  15 f1 =  0.5057766367137355\n",
      "depth =  16 f1 =  0.48415716096324457\n",
      "depth =  17 f1 =  0.5006289308176101\n",
      "depth =  18 f1 =  0.5116851168511685\n",
      "depth =  19 f1 =  0.4907521578298397\n"
     ]
    }
   ],
   "source": [
    "top_model, top_f1, top_depth = searchBestDepth( lambda x:DecisionTreeClassifier(random_state=42, max_depth=x) , x_train, y_train,x_valid,y_valid)"
   ]
  },
  {
   "cell_type": "code",
   "execution_count": 35,
   "metadata": {},
   "outputs": [
    {
     "name": "stdout",
     "output_type": "stream",
     "text": [
      "top depth: 7\n",
      "recall: 0.44717444717444715\n",
      "accuracy: 0.8585\n",
      "f1 score: 0.5625965996908809\n",
      "ROC-AUC 0.8317601114211285\n"
     ]
    }
   ],
   "source": [
    "print('top depth:', top_depth)\n",
    "print_scores(y_valid, top_model.predict( x_valid ),top_model.predict_proba( x_valid ) )"
   ]
  },
  {
   "cell_type": "markdown",
   "metadata": {},
   "source": [
    "## Случайный лес"
   ]
  },
  {
   "cell_type": "code",
   "execution_count": 36,
   "metadata": {},
   "outputs": [],
   "source": [
    "def searchBestCountEstimators( fn_fabricMakeModel,  x_train, y_train, x_valid, y_valid, iter_range=range (10,200,10) ):\n",
    "    top_nstm = 0\n",
    "    top_f1 = 0\n",
    "    top_model = None\n",
    "\n",
    "    for nstm in iter_range:\n",
    "        clf = fn_fabricMakeModel(nstm)\n",
    "        f1,clf = trainTestModels(clf,\n",
    "                                 x_train, y_train, x_valid, y_valid)\n",
    "        print('n_estimators = ', nstm, ' f1=', f1)\n",
    "        if f1>top_f1:\n",
    "            top_f1 = f1\n",
    "            top_nstm = nstm\n",
    "            top_model = clf\n",
    "    return top_model, top_f1, top_nstm\n"
   ]
  },
  {
   "cell_type": "code",
   "execution_count": 37,
   "metadata": {},
   "outputs": [],
   "source": [
    "def trainTestModels(clf, x_train, y_train, x_valid, y_valid):\n",
    "    clf.fit(x_train, y_train)\n",
    "    pred_y = clf.predict(x_valid)\n",
    "    f1 = f1_score(y_valid, pred_y)\n",
    "    return f1, clf\n"
   ]
  },
  {
   "cell_type": "code",
   "execution_count": 88,
   "metadata": {},
   "outputs": [
    {
     "name": "stdout",
     "output_type": "stream",
     "text": [
      "depth =  1 f1 =  0.0\n",
      "depth =  2 f1 =  0.07565011820330968\n",
      "depth =  3 f1 =  0.22832980972515854\n",
      "depth =  4 f1 =  0.3636363636363637\n",
      "depth =  5 f1 =  0.4132841328413284\n",
      "depth =  6 f1 =  0.4428571428571429\n",
      "depth =  7 f1 =  0.4722222222222222\n",
      "depth =  8 f1 =  0.5171849427168577\n",
      "depth =  9 f1 =  0.5213114754098361\n",
      "depth =  10 f1 =  0.5296950240770465\n",
      "depth =  11 f1 =  0.5555555555555556\n",
      "depth =  12 f1 =  0.5502318392581145\n",
      "depth =  13 f1 =  0.5505443234836704\n",
      "depth =  14 f1 =  0.5381026438569207\n",
      "depth =  15 f1 =  0.5519379844961241\n",
      "depth =  16 f1 =  0.564885496183206\n",
      "depth =  17 f1 =  0.5306748466257669\n",
      "depth =  18 f1 =  0.5476923076923077\n",
      "depth =  19 f1 =  0.5753846153846154\n"
     ]
    }
   ],
   "source": [
    "top_model, top_f1, top_depth = searchBestDepth( lambda x:RandomForestClassifier(random_state=42, max_depth= x, n_estimators=15,criterion = 'entropy' ) , x_train, y_train,x_valid,y_valid)"
   ]
  },
  {
   "cell_type": "code",
   "execution_count": 89,
   "metadata": {},
   "outputs": [
    {
     "name": "stdout",
     "output_type": "stream",
     "text": [
      "top f1 score =  0.5753846153846154\n",
      "top depth =  19\n"
     ]
    }
   ],
   "source": [
    "print('top f1 score = ', top_f1)\n",
    "print('top depth = ', top_depth)"
   ]
  },
  {
   "cell_type": "code",
   "execution_count": 90,
   "metadata": {},
   "outputs": [
    {
     "name": "stdout",
     "output_type": "stream",
     "text": [
      "n_estimators =  10  f1= 0.5565749235474007\n",
      "n_estimators =  20  f1= 0.5774436090225564\n",
      "n_estimators =  30  f1= 0.5740458015267176\n",
      "n_estimators =  40  f1= 0.5625965996908809\n",
      "n_estimators =  50  f1= 0.5608628659476117\n",
      "n_estimators =  60  f1= 0.5705521472392637\n",
      "n_estimators =  70  f1= 0.5603715170278637\n",
      "n_estimators =  80  f1= 0.5648148148148149\n",
      "n_estimators =  90  f1= 0.5674418604651164\n",
      "n_estimators =  100  f1= 0.5779816513761468\n",
      "n_estimators =  110  f1= 0.5727411944869831\n",
      "n_estimators =  120  f1= 0.5731895223420647\n",
      "n_estimators =  130  f1= 0.5709876543209877\n",
      "n_estimators =  140  f1= 0.576271186440678\n",
      "n_estimators =  150  f1= 0.576271186440678\n",
      "n_estimators =  160  f1= 0.5766871165644172\n",
      "n_estimators =  170  f1= 0.5840978593272171\n",
      "n_estimators =  180  f1= 0.5871559633027522\n",
      "n_estimators =  190  f1= 0.5797546012269938\n"
     ]
    }
   ],
   "source": [
    "fn = lambda x:RandomForestClassifier(random_state=42, max_depth= top_depth, n_estimators=x, )\n",
    "top_model, top_f1, top_nstm = searchBestCountEstimators( fn ,\n",
    "                x_train, y_train, x_valid, y_valid)\n",
    "\n",
    "top_model_random_forest = top_model"
   ]
  },
  {
   "cell_type": "code",
   "execution_count": 91,
   "metadata": {},
   "outputs": [
    {
     "name": "stdout",
     "output_type": "stream",
     "text": [
      "top n_estimators 180\n",
      "top f1 0.5871559633027522\n"
     ]
    }
   ],
   "source": [
    "print('top n_estimators', top_nstm)\n",
    "print('top f1', top_f1)"
   ]
  },
  {
   "cell_type": "code",
   "execution_count": 93,
   "metadata": {},
   "outputs": [
    {
     "name": "stdout",
     "output_type": "stream",
     "text": [
      "n_estimators =  164  f1= 0.5797546012269938\n",
      "n_estimators =  166  f1= 0.5797546012269938\n",
      "n_estimators =  168  f1= 0.5819295558958653\n",
      "n_estimators =  170  f1= 0.5840978593272171\n",
      "n_estimators =  172  f1= 0.5840978593272171\n",
      "n_estimators =  174  f1= 0.5880551301684532\n",
      "n_estimators =  176  f1= 0.5871559633027522\n"
     ]
    }
   ],
   "source": [
    "top_model, top_f1, top_nstm = searchBestCountEstimators( fn ,\n",
    "                                                         x_train, y_train, x_valid, y_valid,\n",
    "                                                         iter_range=range(164,178,2))\n",
    "\n"
   ]
  },
  {
   "cell_type": "code",
   "execution_count": 94,
   "metadata": {},
   "outputs": [
    {
     "name": "stdout",
     "output_type": "stream",
     "text": [
      "top n_estimators =  174\n",
      "recall: 0.47174447174447176\n",
      "accuracy: 0.8655\n",
      "f1 score: 0.5880551301684532\n",
      "ROC-AUC 0.8568321788660771\n"
     ]
    }
   ],
   "source": [
    "print('top n_estimators = ', top_nstm)\n",
    "print_scores(y_valid, top_model.predict( x_valid ),top_model.predict_proba( x_valid ) )"
   ]
  },
  {
   "cell_type": "markdown",
   "metadata": {},
   "source": [
    "Для моделей имеем следующие результаты\n",
    "    логистическая регрессия - 0.319\n",
    "    дерево решения -  0.563\n",
    "    случайный лес -  0.579\n",
    "\n",
    "Лучший результат у случайного леса - 0.579. Дерево решений имеет резульат чуть хуже -0.563. Самый плохой результат у линейной регрессии - 0.319"
   ]
  },
  {
   "cell_type": "markdown",
   "metadata": {},
   "source": [
    "## Исследование моделей с балансировкой классов"
   ]
  },
  {
   "cell_type": "markdown",
   "metadata": {},
   "source": [
    "### Создание upsampling данных"
   ]
  },
  {
   "cell_type": "code",
   "execution_count": 44,
   "metadata": {},
   "outputs": [],
   "source": [
    "def upsample(features, target, repeat):\n",
    "    features_zeros = features[target == 0]\n",
    "    features_ones = features[target == 1]\n",
    "    target_zeros = target[target == 0]\n",
    "    target_ones = target[target == 1]\n",
    "\n",
    "    features_upsampled = pd.concat([features_zeros] + [features_ones] * repeat)\n",
    "    target_upsampled = pd.concat([target_zeros] + [target_ones] * repeat)\n",
    "\n",
    "    features_upsampled, target_upsampled = shuffle(\n",
    "        features_upsampled, target_upsampled, random_state=12345)\n",
    "\n",
    "    return features_upsampled, target_upsampled\n"
   ]
  },
  {
   "cell_type": "code",
   "execution_count": 45,
   "metadata": {},
   "outputs": [
    {
     "data": {
      "text/plain": "<Figure size 640x480 with 1 Axes>",
      "image/png": "[encoded data removed]"
     },
     "metadata": {},
     "output_type": "display_data"
    }
   ],
   "source": [
    "features_upsampled, target_upsampled = upsample(x_train, y_train,4)\n",
    "target_upsampled.value_counts().plot(kind='bar',title='Баланс классов для предсказания');"
   ]
  },
  {
   "cell_type": "markdown",
   "metadata": {},
   "source": [
    "### Cоздание Downsampling\n"
   ]
  },
  {
   "cell_type": "code",
   "execution_count": 46,
   "metadata": {},
   "outputs": [],
   "source": [
    "def downsample(features, target, fraction):\n",
    "    features_zeros = features[target == 0]\n",
    "    features_ones = features[target == 1]\n",
    "    target_zeros = target[target == 0]\n",
    "    target_ones = target[target == 1]\n",
    "\n",
    "    features_downsampled = pd.concat(\n",
    "        [features_zeros.sample(frac=fraction, random_state=12345)] + [features_ones])\n",
    "    target_downsampled = pd.concat(\n",
    "        [target_zeros.sample(frac=fraction, random_state=12345)] + [target_ones])\n",
    "\n",
    "    features_downsampled, target_downsampled = shuffle(\n",
    "        features_downsampled, target_downsampled, random_state=12345)\n",
    "\n",
    "    return features_downsampled, target_downsampled"
   ]
  },
  {
   "cell_type": "code",
   "execution_count": 47,
   "metadata": {},
   "outputs": [
    {
     "data": {
      "text/plain": "<Figure size 640x480 with 1 Axes>",
      "image/png": "[encoded data removed]"
     },
     "metadata": {},
     "output_type": "display_data"
    }
   ],
   "source": [
    "features_downsampled, target_downsampled = downsample(x_train, y_train, 0.256)\n",
    "target_downsampled.value_counts().plot(kind='bar',title='Баланс классов для предсказания');"
   ]
  },
  {
   "cell_type": "markdown",
   "metadata": {},
   "source": [
    "### Логистическая регрессия"
   ]
  },
  {
   "cell_type": "code",
   "execution_count": 48,
   "metadata": {},
   "outputs": [
    {
     "name": "stdout",
     "output_type": "stream",
     "text": [
      "balanced results\n",
      "recall: 0.6633906633906634\n",
      "accuracy: 0.708\n",
      "f1 score: 0.4804270462633452\n",
      "ROC-AUC 0.7607206590257438\n"
     ]
    }
   ],
   "source": [
    "model = LogisticRegression(class_weight = 'balanced')\n",
    "model.fit(sc_x_train, y_train)\n",
    "pred = model.predict(sc_x_valid)\n",
    "\n",
    "print('balanced results')\n",
    "print_scores(y_valid, pred,model.predict_proba(sc_x_valid))"
   ]
  },
  {
   "cell_type": "code",
   "execution_count": 49,
   "metadata": {},
   "outputs": [
    {
     "name": "stdout",
     "output_type": "stream",
     "text": [
      "upsample results:\n",
      "recall: 0.6732186732186732\n",
      "accuracy: 0.702\n",
      "f1 score: 0.47902097902097895\n",
      "ROC-AUC 0.7607437946420996\n"
     ]
    }
   ],
   "source": [
    "model = LogisticRegression()\n",
    "features_upsampled_cs = std_scaler.transform(features_upsampled)\n",
    "model.fit(features_upsampled_cs, target_upsampled)\n",
    "pred = model.predict(sc_x_valid)\n",
    "\n",
    "print(\"upsample results:\")\n",
    "print_scores(y_valid, pred,model.predict_proba(sc_x_valid))"
   ]
  },
  {
   "cell_type": "code",
   "execution_count": 50,
   "metadata": {},
   "outputs": [
    {
     "name": "stdout",
     "output_type": "stream",
     "text": [
      "downsample results:\n",
      "recall: 0.6584766584766585\n",
      "accuracy: 0.713\n",
      "f1 score: 0.4828828828828829\n",
      "ROC-AUC 0.7618142024921686\n"
     ]
    }
   ],
   "source": [
    "model = LogisticRegression()\n",
    "features_dwnsmpl_cs = std_scaler.transform(features_downsampled)\n",
    "model.fit(features_dwnsmpl_cs, target_downsampled)\n",
    "pred = model.predict(sc_x_valid)\n",
    "\n",
    "print(\"downsample results:\")\n",
    "print_scores(y_valid, pred,model.predict_proba(sc_x_valid))"
   ]
  },
  {
   "cell_type": "markdown",
   "metadata": {},
   "source": [
    "Самый лучший результат достигнут для downsampling метода - думаю, это связано с тем, что модель переобучается на данных для 0 класса - при балансировке класса или при апсемплинге мы делаем копии экземпляров меньшего класса ( при балансировке - неявно ), при даунсемплинге выбираем небольшую часть данных из большего класса - этих данных достаточно для обучения модели."
   ]
  },
  {
   "cell_type": "markdown",
   "metadata": {},
   "source": [
    "### Дерево решений"
   ]
  },
  {
   "cell_type": "markdown",
   "metadata": {},
   "source": [
    "#### балансировка классов"
   ]
  },
  {
   "cell_type": "code",
   "execution_count": 51,
   "metadata": {},
   "outputs": [
    {
     "name": "stdout",
     "output_type": "stream",
     "text": [
      "depth =  1 f1 =  0.4677023712183156\n",
      "depth =  2 f1 =  0.4770346494762288\n",
      "depth =  3 f1 =  0.4770346494762288\n",
      "depth =  4 f1 =  0.5409836065573771\n",
      "depth =  5 f1 =  0.5655813953488372\n",
      "depth =  6 f1 =  0.588011417697431\n",
      "depth =  7 f1 =  0.5692307692307692\n",
      "depth =  8 f1 =  0.5823255813953488\n",
      "depth =  9 f1 =  0.5781710914454278\n",
      "depth =  10 f1 =  0.5622032288698956\n",
      "depth =  11 f1 =  0.5587628865979382\n",
      "depth =  12 f1 =  0.5493387589013226\n",
      "depth =  13 f1 =  0.535059331175836\n",
      "depth =  14 f1 =  0.5485327313769752\n",
      "depth =  15 f1 =  0.5278725824800911\n",
      "depth =  16 f1 =  0.5458768873403019\n",
      "depth =  17 f1 =  0.535377358490566\n",
      "depth =  18 f1 =  0.5308056872037915\n",
      "depth =  19 f1 =  0.5452380952380952\n"
     ]
    }
   ],
   "source": [
    "top_model, top_f1, top_depth = searchBestDepth( lambda x:DecisionTreeClassifier(random_state=42, max_depth=x, class_weight = 'balanced')\n",
    "                                                , x_train, y_train,x_valid,y_valid)\n",
    "top_model_decition_tree = top_model\n",
    "top_f1_dt_balanced = top_f1"
   ]
  },
  {
   "cell_type": "code",
   "execution_count": 52,
   "metadata": {},
   "outputs": [
    {
     "name": "stdout",
     "output_type": "stream",
     "text": [
      "top depth: 6\n",
      "recall: 0.7592137592137592\n",
      "accuracy: 0.7835\n",
      "f1 score: 0.588011417697431\n",
      "ROC-AUC 0.8320446795023066\n"
     ]
    }
   ],
   "source": [
    "print('top depth:', top_depth)\n",
    "print_scores(y_valid, top_model.predict(x_valid), top_model.predict_proba(x_valid))"
   ]
  },
  {
   "cell_type": "markdown",
   "metadata": {},
   "source": [
    "#### upsampling"
   ]
  },
  {
   "cell_type": "code",
   "execution_count": 53,
   "metadata": {},
   "outputs": [
    {
     "name": "stdout",
     "output_type": "stream",
     "text": [
      "depth =  1 f1 =  0.4677023712183156\n",
      "depth =  2 f1 =  0.4770346494762288\n",
      "depth =  3 f1 =  0.4770346494762288\n",
      "depth =  4 f1 =  0.5409836065573771\n",
      "depth =  5 f1 =  0.5655813953488372\n",
      "depth =  6 f1 =  0.588011417697431\n",
      "depth =  7 f1 =  0.5706051873198847\n",
      "depth =  8 f1 =  0.5818521983161833\n",
      "depth =  9 f1 =  0.5790513833992095\n",
      "depth =  10 f1 =  0.5722433460076044\n",
      "depth =  11 f1 =  0.5571725571725571\n",
      "depth =  12 f1 =  0.5402650356778798\n",
      "depth =  13 f1 =  0.5454545454545454\n",
      "depth =  14 f1 =  0.5507900677200903\n",
      "depth =  15 f1 =  0.5212399540757751\n",
      "depth =  16 f1 =  0.5341176470588236\n",
      "depth =  17 f1 =  0.5405405405405407\n",
      "depth =  18 f1 =  0.5342789598108748\n",
      "depth =  19 f1 =  0.5398335315101072\n"
     ]
    }
   ],
   "source": [
    "top_model, top_f1, top_depth = searchBestDepth( lambda x:DecisionTreeClassifier(random_state=42, max_depth=x)\n",
    "                                                , features_upsampled, target_upsampled,x_valid,y_valid)\n",
    "top_f1_dt_upsampling = top_f1"
   ]
  },
  {
   "cell_type": "code",
   "execution_count": 54,
   "metadata": {},
   "outputs": [
    {
     "name": "stdout",
     "output_type": "stream",
     "text": [
      "top depth: 6\n",
      "recall: 0.7592137592137592\n",
      "accuracy: 0.7835\n",
      "f1 score: 0.588011417697431\n",
      "ROC-AUC 0.8320446795023066\n"
     ]
    }
   ],
   "source": [
    "print('top depth:', top_depth)\n",
    "print_scores(y_valid, top_model.predict(x_valid),top_model.predict_proba(x_valid))"
   ]
  },
  {
   "cell_type": "markdown",
   "metadata": {},
   "source": [
    "f1 при балансировке классов и апсемплинге значения одинаковые - я пробовал изменить random_state - иногда лучшие скоры полностью совпадают"
   ]
  },
  {
   "cell_type": "markdown",
   "metadata": {},
   "source": [
    "#### downsampling"
   ]
  },
  {
   "cell_type": "code",
   "execution_count": 55,
   "metadata": {},
   "outputs": [
    {
     "name": "stdout",
     "output_type": "stream",
     "text": [
      "depth =  1 f1 =  0.4677023712183156\n",
      "depth =  2 f1 =  0.4770346494762288\n",
      "depth =  3 f1 =  0.48862679022746414\n",
      "depth =  4 f1 =  0.503003003003003\n",
      "depth =  5 f1 =  0.5779092702169625\n",
      "depth =  6 f1 =  0.5556544968833482\n",
      "depth =  7 f1 =  0.5519779208831647\n",
      "depth =  8 f1 =  0.5703493862134089\n",
      "depth =  9 f1 =  0.531063829787234\n",
      "depth =  10 f1 =  0.5241864555848724\n",
      "depth =  11 f1 =  0.5132890365448505\n",
      "depth =  12 f1 =  0.49823321554770306\n",
      "depth =  13 f1 =  0.4885245901639344\n",
      "depth =  14 f1 =  0.48854961832061056\n",
      "depth =  15 f1 =  0.47634854771784235\n",
      "depth =  16 f1 =  0.47293921731890093\n",
      "depth =  17 f1 =  0.4726962457337884\n",
      "depth =  18 f1 =  0.47372810675562965\n",
      "depth =  19 f1 =  0.47372810675562965\n"
     ]
    }
   ],
   "source": [
    "top_model, top_f1, top_depth = searchBestDepth( lambda x:DecisionTreeClassifier(random_state=42, max_depth=x)\n",
    "                                                , features_downsampled, target_downsampled,x_valid,y_valid)\n",
    "top_f1_dt_downsampling = top_f1"
   ]
  },
  {
   "cell_type": "code",
   "execution_count": 56,
   "metadata": {},
   "outputs": [
    {
     "name": "stdout",
     "output_type": "stream",
     "text": [
      "top depth: 5\n",
      "recall: 0.7199017199017199\n",
      "accuracy: 0.786\n",
      "f1 score: 0.5779092702169625\n",
      "ROC-AUC 0.8271892848164035\n"
     ]
    }
   ],
   "source": [
    "print('top depth:', top_depth)\n",
    "print_scores(y_valid, top_model.predict(x_valid),top_model.predict_proba(x_valid))"
   ]
  },
  {
   "cell_type": "markdown",
   "metadata": {},
   "source": []
  },
  {
   "cell_type": "markdown",
   "metadata": {},
   "source": [
    "#### Работа с поргом\n"
   ]
  },
  {
   "cell_type": "code",
   "execution_count": 57,
   "metadata": {},
   "outputs": [],
   "source": [
    "def calcF1Curve(pred_proba):\n",
    "    x = []\n",
    "    y = []\n",
    "    top_x = 0;\n",
    "    top_y = 0\n",
    "    for edge in range(1,100):\n",
    "        xpoint = (edge/100.0)\n",
    "        cur_pred = pred_proba > xpoint\n",
    "        cur_f1 = f1_score(y_valid, cur_pred)\n",
    "        x.append(xpoint)\n",
    "        y.append(cur_f1)\n",
    "        if top_y<cur_f1:\n",
    "            top_x = xpoint\n",
    "            top_y = cur_f1\n",
    "    return x, y, top_x, top_y\n",
    "\n",
    "def drawRocCurve(y_valid, pred_proba):\n",
    "    RocCurveDisplay.from_predictions(\n",
    "        y_valid,\n",
    "        pred_proba,\n",
    "        name=f\"1 vs the rest\",\n",
    "        color=\"darkorange\",\n",
    "    )\n",
    "    plt.plot([0, 1], [0, 1], \"k--\", label=\"chance level (AUC = 0.5)\")\n",
    "    plt.axis(\"square\")\n",
    "    plt.xlabel(\"False Positive Rate\")\n",
    "    plt.ylabel(\"True Positive Rate\")\n",
    "    plt.title(\"ROC\")\n",
    "    plt.legend()\n",
    "    plt.show()\n",
    "\n",
    "    return"
   ]
  },
  {
   "cell_type": "code",
   "execution_count": 58,
   "metadata": {},
   "outputs": [
    {
     "data": {
      "text/plain": "<Figure size 640x480 with 1 Axes>",
      "image/png": "[encoded data removed]"
     },
     "metadata": {},
     "output_type": "display_data"
    },
    {
     "data": {
      "text/plain": "<Figure size 640x480 with 1 Axes>",
      "image/png": "[encoded data removed]"
     },
     "metadata": {},
     "output_type": "display_data"
    },
    {
     "name": "stdout",
     "output_type": "stream",
     "text": [
      "recall: 0.6855036855036855\n",
      "accuracy: 0.8185\n",
      "f1 score: 0.6058631921824104\n",
      "ROC-AUC 0.8320446795023066\n"
     ]
    }
   ],
   "source": [
    "predict_proba = top_model_decition_tree.predict_proba(x_valid)[:, 1]\n",
    "x, y, top_val, top_f1 = calcF1Curve(predict_proba)\n",
    "plt.plot(x, y)\n",
    "plt.title('зависимость f1 от порога')\n",
    "plt.xlabel('')\n",
    "plt.show()\n",
    "drawRocCurve(y_valid, predict_proba)\n",
    "print_scores(y_valid, predict_proba>top_val,top_model_decition_tree.predict_proba(x_valid))\n",
    "top_f1_dt_range = top_f1"
   ]
  },
  {
   "cell_type": "code",
   "execution_count": 59,
   "metadata": {},
   "outputs": [
    {
     "name": "stdout",
     "output_type": "stream",
     "text": [
      "f1 balanced 0.588011417697431\n",
      "f1 upsampling 0.588011417697431\n",
      "f1 downsampling 0.5779092702169625\n",
      "f1 range 0.6058631921824104\n"
     ]
    }
   ],
   "source": [
    "print('f1 balanced',top_f1_dt_balanced)\n",
    "print('f1 upsampling',top_f1_dt_upsampling)\n",
    "print('f1 downsampling',top_f1_dt_downsampling)\n",
    "print('f1 range',top_f1_dt_range)"
   ]
  },
  {
   "cell_type": "markdown",
   "metadata": {},
   "source": [
    "для дерева решений получились следующие результаты\n",
    "    - балансировка - 0.588011417697431\n",
    "    - апсемплинг -  0.588011417697431\n",
    "    - downsampling -0.5779092702169625\n",
    "    - работа с порогом - 0.6058631921824104\n",
    "\n",
    "Балансировка и апсемлинг дали одинаковые результаты.  Downsampling хуже на >0.01. Лучше всего поднять метрику получилось использую сдвиг порога.\n"
   ]
  },
  {
   "cell_type": "markdown",
   "metadata": {},
   "source": [
    "### случайный лес"
   ]
  },
  {
   "cell_type": "markdown",
   "metadata": {},
   "source": [
    "#### Балансировка классов"
   ]
  },
  {
   "cell_type": "code",
   "execution_count": 69,
   "metadata": {},
   "outputs": [
    {
     "name": "stdout",
     "output_type": "stream",
     "text": [
      "depth =  1 f1 =  0.5103189493433395\n",
      "depth =  2 f1 =  0.5204081632653061\n",
      "depth =  3 f1 =  0.5429141716566867\n",
      "depth =  4 f1 =  0.5629335976214074\n",
      "depth =  5 f1 =  0.5737538148524923\n",
      "depth =  6 f1 =  0.5804416403785488\n",
      "depth =  7 f1 =  0.5883620689655172\n",
      "depth =  8 f1 =  0.6008771929824562\n",
      "depth =  9 f1 =  0.6329113924050633\n",
      "depth =  10 f1 =  0.6105769230769231\n",
      "depth =  11 f1 =  0.592020592020592\n",
      "depth =  12 f1 =  0.6229508196721313\n",
      "depth =  13 f1 =  0.5991792065663474\n",
      "depth =  14 f1 =  0.5912305516265912\n",
      "depth =  15 f1 =  0.5858585858585859\n",
      "depth =  16 f1 =  0.5589123867069486\n",
      "depth =  17 f1 =  0.573134328358209\n",
      "depth =  18 f1 =  0.5641025641025641\n",
      "depth =  19 f1 =  0.554364471669219\n"
     ]
    }
   ],
   "source": [
    "# поиск оптимального значения max_depth\n",
    "fn_fabric = lambda x:RandomForestClassifier(random_state=77, max_depth=x,n_estimators=15, class_weight='balanced',criterion = 'entropy')\n",
    "top_model, top_f1, top_depth = searchBestDepth( fn_fabric\n",
    "                                                , x_train, y_train,x_valid,y_valid)"
   ]
  },
  {
   "cell_type": "code",
   "execution_count": 70,
   "metadata": {},
   "outputs": [
    {
     "name": "stdout",
     "output_type": "stream",
     "text": [
      "top depth: 9\n",
      "top f1:  0.6329113924050633\n"
     ]
    }
   ],
   "source": [
    "print('top depth:', top_depth)\n",
    "print('top f1: ', top_f1)"
   ]
  },
  {
   "cell_type": "code",
   "execution_count": 71,
   "metadata": {},
   "outputs": [
    {
     "name": "stdout",
     "output_type": "stream",
     "text": [
      "n_estimators =  10  f1= 0.6017897091722596\n",
      "n_estimators =  20  f1= 0.617283950617284\n",
      "n_estimators =  30  f1= 0.6279863481228669\n",
      "n_estimators =  40  f1= 0.6188850967007963\n",
      "n_estimators =  50  f1= 0.6272727272727272\n",
      "n_estimators =  60  f1= 0.6285714285714287\n",
      "n_estimators =  70  f1= 0.6275862068965518\n",
      "n_estimators =  80  f1= 0.6229885057471264\n",
      "n_estimators =  90  f1= 0.6260069044879172\n",
      "n_estimators =  100  f1= 0.625\n",
      "n_estimators =  110  f1= 0.6295005807200929\n",
      "n_estimators =  120  f1= 0.6342592592592592\n",
      "n_estimators =  130  f1= 0.6281755196304849\n",
      "n_estimators =  140  f1= 0.6306098964326812\n",
      "n_estimators =  150  f1= 0.6313364055299538\n",
      "n_estimators =  160  f1= 0.6327944572748267\n",
      "n_estimators =  170  f1= 0.6318234610917537\n",
      "n_estimators =  180  f1= 0.6342592592592592\n",
      "n_estimators =  190  f1= 0.6326767091541136\n"
     ]
    }
   ],
   "source": [
    "# поиск оптимального значения n_estimators\n",
    "fn = lambda x:RandomForestClassifier(random_state=42, max_depth= top_depth, n_estimators=x,class_weight='balanced',criterion = 'entropy' )\n",
    "top_model, top_f1, top_nstm = searchBestCountEstimators( fn ,\n",
    "                                                         x_train, y_train, x_valid, y_valid)\n",
    "\n",
    "top_model_rf_balanced = top_model\n",
    "top_f1_balanced = top_f1"
   ]
  },
  {
   "cell_type": "code",
   "execution_count": 72,
   "metadata": {},
   "outputs": [
    {
     "name": "stdout",
     "output_type": "stream",
     "text": [
      "top nstm: 120\n",
      "recall: 0.6732186732186732\n",
      "accuracy: 0.842\n",
      "f1 score: 0.6342592592592592\n",
      "ROC-AUC 0.858903587717147\n"
     ]
    }
   ],
   "source": [
    "print('top nstm:', top_nstm)\n",
    "print_scores(y_valid, top_model.predict(x_valid),top_model.predict_proba(x_valid))"
   ]
  },
  {
   "cell_type": "markdown",
   "metadata": {},
   "source": [
    "#### upsampling"
   ]
  },
  {
   "cell_type": "code",
   "execution_count": 73,
   "metadata": {},
   "outputs": [
    {
     "name": "stdout",
     "output_type": "stream",
     "text": [
      "depth =  1 f1 =  0.48913043478260876\n",
      "depth =  2 f1 =  0.5488372093023256\n",
      "depth =  3 f1 =  0.5647969052224372\n",
      "depth =  4 f1 =  0.559040590405904\n",
      "depth =  5 f1 =  0.5845552297165201\n",
      "depth =  6 f1 =  0.5797101449275363\n",
      "depth =  7 f1 =  0.6019607843137255\n",
      "depth =  8 f1 =  0.601036269430052\n",
      "depth =  9 f1 =  0.609704641350211\n",
      "depth =  10 f1 =  0.6137566137566137\n",
      "depth =  11 f1 =  0.604494382022472\n",
      "depth =  12 f1 =  0.6396396396396397\n",
      "depth =  13 f1 =  0.6155632984901278\n",
      "depth =  14 f1 =  0.6180469715698393\n",
      "depth =  15 f1 =  0.6029776674937966\n",
      "depth =  16 f1 =  0.5920398009950248\n",
      "depth =  17 f1 =  0.6063694267515923\n",
      "depth =  18 f1 =  0.598503740648379\n",
      "depth =  19 f1 =  0.5922077922077922\n"
     ]
    }
   ],
   "source": [
    "top_model, top_f1, top_depth = searchBestDepth( lambda x:RandomForestClassifier(random_state=42, max_depth=x,n_estimators=15,criterion = 'entropy')\n",
    "                                                , features_upsampled, target_upsampled,x_valid,y_valid)"
   ]
  },
  {
   "cell_type": "code",
   "execution_count": 74,
   "metadata": {},
   "outputs": [
    {
     "name": "stdout",
     "output_type": "stream",
     "text": [
      "top depth: 12\n",
      "top f1:  0.6396396396396397\n"
     ]
    }
   ],
   "source": [
    "print('top depth:', top_depth)\n",
    "print('top f1: ', top_f1)"
   ]
  },
  {
   "cell_type": "code",
   "execution_count": 77,
   "metadata": {},
   "outputs": [
    {
     "name": "stdout",
     "output_type": "stream",
     "text": [
      "n_estimators =  10  f1= 0.6270996640537515\n",
      "n_estimators =  20  f1= 0.6382978723404256\n",
      "n_estimators =  30  f1= 0.6303854875283446\n",
      "n_estimators =  40  f1= 0.6442641946697567\n",
      "n_estimators =  50  f1= 0.6306098964326812\n",
      "n_estimators =  60  f1= 0.6268656716417911\n",
      "n_estimators =  70  f1= 0.6291618828932263\n",
      "n_estimators =  80  f1= 0.629757785467128\n",
      "n_estimators =  90  f1= 0.6342592592592592\n",
      "n_estimators =  100  f1= 0.6365740740740741\n",
      "n_estimators =  110  f1= 0.6380510440835268\n",
      "n_estimators =  120  f1= 0.6343713956170703\n",
      "n_estimators =  130  f1= 0.6326767091541136\n",
      "n_estimators =  140  f1= 0.6317016317016316\n",
      "n_estimators =  150  f1= 0.6319444444444445\n",
      "n_estimators =  160  f1= 0.6335260115606937\n",
      "n_estimators =  170  f1= 0.6388888888888888\n",
      "n_estimators =  180  f1= 0.6388888888888888\n",
      "n_estimators =  190  f1= 0.6374133949191686\n"
     ]
    }
   ],
   "source": [
    "fn = lambda x:RandomForestClassifier(random_state=42, max_depth= top_depth, n_estimators=x,criterion = 'entropy' )\n",
    "top_model, top_f1, top_nstm = searchBestCountEstimators( fn ,\n",
    "                                                         features_upsampled, target_upsampled, x_valid, y_valid)\n",
    "top_f1_upsamplig = top_f1\n",
    "top_model_rf_upsampling = top_model"
   ]
  },
  {
   "cell_type": "code",
   "execution_count": 78,
   "metadata": {},
   "outputs": [
    {
     "name": "stdout",
     "output_type": "stream",
     "text": [
      "top nstm: 40\n",
      "recall: 0.683046683046683\n",
      "accuracy: 0.8465\n",
      "f1 score: 0.6442641946697567\n",
      "ROC-AUC 0.8570897553948401\n"
     ]
    }
   ],
   "source": [
    "print('top nstm:', top_nstm)\n",
    "print_scores(y_valid, top_model.predict(x_valid), top_model.predict_proba(x_valid))"
   ]
  },
  {
   "cell_type": "markdown",
   "metadata": {},
   "source": [
    "#### downsampling"
   ]
  },
  {
   "cell_type": "code",
   "execution_count": 79,
   "metadata": {},
   "outputs": [
    {
     "name": "stdout",
     "output_type": "stream",
     "text": [
      "depth =  1 f1 =  0.49760765550239233\n",
      "depth =  2 f1 =  0.5544554455445544\n",
      "depth =  3 f1 =  0.5484496124031008\n",
      "depth =  4 f1 =  0.5692742695570217\n",
      "depth =  5 f1 =  0.5681818181818182\n",
      "depth =  6 f1 =  0.5904404873477039\n",
      "depth =  7 f1 =  0.5860113421550094\n",
      "depth =  8 f1 =  0.5994291151284491\n",
      "depth =  9 f1 =  0.5996204933586338\n",
      "depth =  10 f1 =  0.5735567970204841\n",
      "depth =  11 f1 =  0.5802238805970149\n",
      "depth =  12 f1 =  0.5706106870229007\n",
      "depth =  13 f1 =  0.5714285714285715\n",
      "depth =  14 f1 =  0.5730550284629982\n",
      "depth =  15 f1 =  0.5716928769657724\n",
      "depth =  16 f1 =  0.5802816901408451\n",
      "depth =  17 f1 =  0.5745257452574526\n",
      "depth =  18 f1 =  0.563302752293578\n",
      "depth =  19 f1 =  0.5682451253481894\n"
     ]
    }
   ],
   "source": [
    "fn = lambda x:RandomForestClassifier(random_state=42, max_depth= x, n_estimators=15,criterion = 'entropy' )\n",
    "top_model, top_f1, top_depth = searchBestDepth( fn ,\n",
    "                                                         features_downsampled, target_downsampled, x_valid, y_valid)\n"
   ]
  },
  {
   "cell_type": "code",
   "execution_count": 80,
   "metadata": {},
   "outputs": [
    {
     "name": "stdout",
     "output_type": "stream",
     "text": [
      "top depth: 9\n",
      "top f1:  0.5996204933586338\n"
     ]
    }
   ],
   "source": [
    "print('top depth:', top_depth)\n",
    "print('top f1: ', top_f1)"
   ]
  },
  {
   "cell_type": "code",
   "execution_count": 81,
   "metadata": {},
   "outputs": [
    {
     "name": "stdout",
     "output_type": "stream",
     "text": [
      "n_estimators =  10  f1= 0.5872259294566253\n",
      "n_estimators =  20  f1= 0.5958646616541353\n",
      "n_estimators =  30  f1= 0.5887939221272555\n",
      "n_estimators =  40  f1= 0.5939278937381404\n",
      "n_estimators =  50  f1= 0.6007604562737643\n",
      "n_estimators =  60  f1= 0.6050096339113681\n",
      "n_estimators =  70  f1= 0.5998071359691418\n",
      "n_estimators =  80  f1= 0.5992292870905588\n",
      "n_estimators =  90  f1= 0.6003861003861004\n",
      "n_estimators =  100  f1= 0.596695821185617\n",
      "n_estimators =  110  f1= 0.5990338164251208\n",
      "n_estimators =  120  f1= 0.5988372093023255\n",
      "n_estimators =  130  f1= 0.5988372093023255\n",
      "n_estimators =  140  f1= 0.6034816247582204\n",
      "n_estimators =  150  f1= 0.6032977691561591\n",
      "n_estimators =  160  f1= 0.6015473887814312\n",
      "n_estimators =  170  f1= 0.6013579049466538\n",
      "n_estimators =  180  f1= 0.6046511627906976\n",
      "n_estimators =  190  f1= 0.6023166023166023\n"
     ]
    }
   ],
   "source": [
    "fn = lambda x:RandomForestClassifier(random_state=42, max_depth= top_depth, n_estimators=x,criterion = 'entropy' )\n",
    "top_model, top_f1, top_nstm = searchBestCountEstimators( fn ,\n",
    "                                                         features_downsampled, target_downsampled, x_valid, y_valid,\n",
    "                                                         #iter_range=range(12,17,1)\n",
    "                                                         )"
   ]
  },
  {
   "cell_type": "code",
   "execution_count": 82,
   "metadata": {},
   "outputs": [
    {
     "name": "stdout",
     "output_type": "stream",
     "text": [
      "top nstm: 60\n",
      "top f1:  0.6050096339113681\n"
     ]
    }
   ],
   "source": [
    "print('top nstm:', top_nstm)\n",
    "print('top f1: ', top_f1)"
   ]
  },
  {
   "cell_type": "code",
   "execution_count": 83,
   "metadata": {},
   "outputs": [
    {
     "name": "stdout",
     "output_type": "stream",
     "text": [
      "n_estimators =  12  f1= 0.591254752851711\n",
      "n_estimators =  13  f1= 0.5899143672692674\n",
      "n_estimators =  14  f1= 0.5963912630579298\n",
      "n_estimators =  15  f1= 0.5996204933586338\n",
      "n_estimators =  16  f1= 0.5965909090909092\n",
      "n_estimators =  17  f1= 0.592662276575729\n",
      "n_estimators =  18  f1= 0.5859154929577465\n",
      "n_estimators =  19  f1= 0.5903165735567969\n",
      "n_estimators =  20  f1= 0.5958646616541353\n",
      "n_estimators =  21  f1= 0.5956644674835061\n",
      "n_estimators =  22  f1= 0.5941893158388003\n",
      "n_estimators =  23  f1= 0.5932203389830508\n",
      "n_estimators =  24  f1= 0.5883458646616542\n"
     ]
    }
   ],
   "source": [
    "fn = lambda x:RandomForestClassifier(random_state=42, max_depth= top_depth, n_estimators=x,criterion = 'entropy' )\n",
    "top_model, top_f1, top_nstm = searchBestCountEstimators( fn ,\n",
    "                                                         features_downsampled, target_downsampled, x_valid, y_valid,\n",
    "                                                         iter_range=range(12,25,1)\n",
    "                                                         )\n",
    "top_model_rf_downsampling = top_model\n",
    "top_f1_downsampling = top_f1"
   ]
  },
  {
   "cell_type": "code",
   "execution_count": 84,
   "metadata": {},
   "outputs": [
    {
     "name": "stdout",
     "output_type": "stream",
     "text": [
      "top nstm: 15\n",
      "recall: 0.7764127764127764\n",
      "accuracy: 0.789\n",
      "f1 score: 0.5996204933586338\n",
      "ROC-AUC 0.8481131362487294\n"
     ]
    }
   ],
   "source": [
    "print('top nstm:', top_nstm)\n",
    "print_scores(y_valid, top_model.predict(x_valid), top_model.predict_proba(x_valid));"
   ]
  },
  {
   "cell_type": "markdown",
   "metadata": {},
   "source": [
    "#### Работа с порогом"
   ]
  },
  {
   "cell_type": "code",
   "execution_count": 97,
   "metadata": {},
   "outputs": [
    {
     "data": {
      "text/plain": "<Figure size 640x480 with 1 Axes>",
      "image/png": "[encoded data removed]"
     },
     "metadata": {},
     "output_type": "display_data"
    },
    {
     "data": {
      "text/plain": "<Figure size 640x480 with 1 Axes>",
      "image/png": "[encoded data removed]"
     },
     "metadata": {},
     "output_type": "display_data"
    },
    {
     "name": "stdout",
     "output_type": "stream",
     "text": [
      "top nstm: 0.39\n",
      "recall: 0.5945945945945946\n",
      "accuracy: 0.8675\n",
      "f1 score: 0.6461949265687583\n",
      "ROC-AUC 0.8568198398706873\n"
     ]
    }
   ],
   "source": [
    "predict_proba = top_model_random_forest.predict_proba(x_valid)[:, 1]\n",
    "x, y, top_val, top_f1_range_rf = calcF1Curve(predict_proba)\n",
    "plt.plot(x, y)\n",
    "plt.title('зависимость f1 от порога')\n",
    "plt.xlabel('')\n",
    "plt.show()\n",
    "drawRocCurve(y_valid, predict_proba)\n",
    "print('top nstm:', top_val)\n",
    "print_scores(y_valid, predict_proba > top_val,top_model_random_forest.predict_proba(x_valid) );"
   ]
  },
  {
   "cell_type": "code",
   "execution_count": 98,
   "metadata": {},
   "outputs": [
    {
     "name": "stdout",
     "output_type": "stream",
     "text": [
      "f1 balanced 0.6342592592592592\n",
      "f1 upsampling 0.6442641946697567\n",
      "f1 downsampling 0.5996204933586338\n",
      "f1 range  0.6461949265687583\n"
     ]
    }
   ],
   "source": [
    "print('f1 balanced',top_f1_balanced )\n",
    "print('f1 upsampling',top_f1_upsamplig)\n",
    "print('f1 downsampling',top_f1_downsampling)\n",
    "print('f1 range ',top_f1_range_rf )\n"
   ]
  },
  {
   "cell_type": "markdown",
   "metadata": {},
   "source": [
    "Лучший результат при сдвиге порога"
   ]
  },
  {
   "cell_type": "markdown",
   "metadata": {},
   "source": [
    " # Проверка лучшей модели на тестовой выборке"
   ]
  },
  {
   "cell_type": "markdown",
   "metadata": {},
   "source": [
    "лучший результат на валидационноый выборке - для случайного леса со свдигом порога. Посчитаю скор на тестовой выборке"
   ]
  },
  {
   "cell_type": "code",
   "execution_count": 95,
   "metadata": {},
   "outputs": [
    {
     "name": "stdout",
     "output_type": "stream",
     "text": [
      "recall: 0.6117936117936118\n",
      "accuracy: 0.846\n",
      "f1 score: 0.6178660049627792\n",
      "ROC-AUC 0.8570774163994502\n"
     ]
    }
   ],
   "source": [
    "model = top_model_random_forest\n",
    "pred_test = model.predict_proba(x_test)[:, 1]\n",
    "pred_test = pred_test>top_val\n",
    "print_scores(y_test,pred_test, model.predict_proba(x_test) )"
   ]
  },
  {
   "cell_type": "code",
   "execution_count": 96,
   "metadata": {},
   "outputs": [],
   "source": [
    "ft_importance_store= []\n",
    "for ftname, ft_imp in zip (df_features.columns,top_model_random_forest.feature_importances_ ):\n",
    "    ft_importance_store.append([ftname, ft_imp])\n",
    "ft_importance_store.sort(key=lambda x:-x[1])\n",
    "\n",
    "df_ft_imp = pd.DataFrame(ft_importance_store, columns=['name','imp'])"
   ]
  },
  {
   "cell_type": "code",
   "execution_count": 81,
   "metadata": {},
   "outputs": [
    {
     "data": {
      "text/plain": "<Figure size 640x480 with 1 Axes>",
      "image/png": "[encoded data removed]"
     },
     "metadata": {},
     "output_type": "display_data"
    }
   ],
   "source": [
    "sns.barplot(data=df_ft_imp, x=\"imp\", y=\"name\").set(title=\"Важность признаков\",xlabel=\"важность признака\", ylabel='имя признака');"
   ]
  },
  {
   "cell_type": "markdown",
   "metadata": {},
   "source": [
    "# Вывод"
   ]
  },
  {
   "cell_type": "markdown",
   "metadata": {},
   "source": [
    "- В данных есть пропуски. Обучил регрерсси и заполнил пропуски - позволило повысить метрику, по сравнению с заполнением 0\n",
    "- Лучшим алгоритмом оказался RandomFores\n",
    "- Downsampling отработал только для логистической регресси\n",
    "- нужно делать балансировку классов, для несбалансированной выборки. Так для\n",
    "    для дерева решений\n",
    "    -  0.5625965996908809\n",
    "    с балансировкой классов\n",
    "        - f1 balanced 0.588011417697431\n",
    "        - f1 upsampling 0.588011417697431\n",
    "        - f1 downsampling 0.5779092702169625\n",
    "        - f1 range 0.6058631921824104\n",
    "\n",
    "    для случайного леса\n",
    "        - 0.5797546012269938\n",
    "    с балансировкой классов\n",
    "        - f1 balanced 0.6115342763873776\n",
    "        - f1 upsampling 0.643956043956044\n",
    "        - f1 downsampling 0.5965909090909092\n",
    "        - f1 range  0.6533665835411472\n",
    "        -\n",
    "- Лучшай модель получилась при использовании алгоритма RandomForest со сдвигом порога\n",
    "         на валидационной выборке - 0.6533\n",
    "         на тестовой выборке - 0.6208\n",
    "         разница между скорами большай - слегка переобучился видимо\n",
    "- есть небольшая связь между f1 score и ROC-AUC. Обычно, когда f1 ростет то и ROC-AUC тоже ростет. Когда двигаем порог - связь теряется\n",
    "\n",
    "            f1 score: 0.5625965996908809\n",
    "            ROC-AUC 0.8317601114211285\n",
    "\n",
    "            f1 score: 0.588011417697431\n",
    "            ROC-AUC 0.8320446795023066\n",
    "\n",
    "            f1 score: 0.588011417697431\n",
    "            ROC-AUC 0.8320446795023066\n",
    "\n",
    "            f1 score: 0.5779092702169625\n",
    "            ROC-AUC 0.8271892848164035\n",
    "\n",
    "            f1 score: 0.6058631921824104\n",
    "            ROC-AUC 0.8320446795023066\n",
    "\n",
    "\n",
    "            ----------\n",
    "            f1 score: 0.5793528505392913\n",
    "            ROC-AUC 0.8602732162054196\n",
    "\n",
    "            f1 score: 0.6115342763873776\n",
    "            ROC-AUC 0.8559052118374152\n",
    "\n",
    "            f1 score: 0.643956043956044\n",
    "            ROC-AUC 0.8620963027742689\n",
    "\n",
    "            f1 score: 0.5965909090909092\n",
    "            ROC-AUC 0.8452026757111504\n",
    "\n",
    "            f1 score: 0.6533665835411472\n",
    "            ROC-AUC 0.8602732162054196\n"
   ]
  }
 ],
 "metadata": {
  "ExecuteTimeLog": [
   {
    "duration": 4792,
    "start_time": "2023-06-28T15:23:51.402Z"
   },
   {
    "duration": 151,
    "start_time": "2023-06-28T15:23:56.197Z"
   },
   {
    "duration": 24,
    "start_time": "2023-06-28T15:23:56.350Z"
   },
   {
    "duration": 13,
    "start_time": "2023-06-28T15:23:56.377Z"
   },
   {
    "duration": 12,
    "start_time": "2023-06-28T15:23:56.392Z"
   },
   {
    "duration": 14,
    "start_time": "2023-06-28T15:23:56.406Z"
   },
   {
    "duration": 70,
    "start_time": "2023-06-28T15:23:56.422Z"
   },
   {
    "duration": 15,
    "start_time": "2023-06-28T15:23:56.494Z"
   },
   {
    "duration": 7,
    "start_time": "2023-06-28T15:23:56.511Z"
   },
   {
    "duration": 21,
    "start_time": "2023-06-28T15:23:56.551Z"
   },
   {
    "duration": 20,
    "start_time": "2023-06-28T15:23:56.574Z"
   },
   {
    "duration": 6,
    "start_time": "2023-06-28T15:23:56.597Z"
   },
   {
    "duration": 7,
    "start_time": "2023-06-28T15:23:56.606Z"
   },
   {
    "duration": 42,
    "start_time": "2023-06-28T15:23:56.615Z"
   },
   {
    "duration": 15,
    "start_time": "2023-06-28T15:23:56.659Z"
   },
   {
    "duration": 5,
    "start_time": "2023-06-28T15:23:56.676Z"
   },
   {
    "duration": 9,
    "start_time": "2023-06-28T15:23:56.684Z"
   },
   {
    "duration": 180,
    "start_time": "2023-06-28T15:23:56.696Z"
   },
   {
    "duration": 4204,
    "start_time": "2023-06-28T15:23:56.879Z"
   },
   {
    "duration": 74,
    "start_time": "2023-06-28T15:24:01.085Z"
   },
   {
    "duration": 4,
    "start_time": "2023-06-28T15:24:01.161Z"
   },
   {
    "duration": 67,
    "start_time": "2023-06-28T15:24:01.167Z"
   },
   {
    "duration": 56,
    "start_time": "2023-06-28T15:24:01.236Z"
   },
   {
    "duration": 69,
    "start_time": "2023-06-28T15:24:01.294Z"
   },
   {
    "duration": 65,
    "start_time": "2023-06-28T15:24:01.365Z"
   },
   {
    "duration": 52,
    "start_time": "2023-06-28T15:24:01.432Z"
   },
   {
    "duration": 91,
    "start_time": "2023-06-28T15:24:01.487Z"
   },
   {
    "duration": 46,
    "start_time": "2023-06-28T15:24:01.583Z"
   },
   {
    "duration": 67,
    "start_time": "2023-06-28T15:24:01.631Z"
   },
   {
    "duration": 62,
    "start_time": "2023-06-28T15:24:01.700Z"
   },
   {
    "duration": 230,
    "start_time": "2023-06-28T15:24:01.767Z"
   },
   {
    "duration": 42,
    "start_time": "2023-06-28T15:24:01.999Z"
   },
   {
    "duration": 546,
    "start_time": "2023-06-28T15:24:02.042Z"
   },
   {
    "duration": 13,
    "start_time": "2023-06-28T15:24:02.590Z"
   },
   {
    "duration": 39,
    "start_time": "2023-06-28T15:24:02.605Z"
   },
   {
    "duration": 23,
    "start_time": "2023-06-28T15:24:02.646Z"
   },
   {
    "duration": 1818,
    "start_time": "2023-06-28T15:24:02.671Z"
   },
   {
    "duration": 4,
    "start_time": "2023-06-28T15:24:04.491Z"
   },
   {
    "duration": 14066,
    "start_time": "2023-06-28T15:24:04.497Z"
   },
   {
    "duration": 9,
    "start_time": "2023-06-28T15:24:18.565Z"
   },
   {
    "duration": 8672,
    "start_time": "2023-06-28T15:24:18.576Z"
   },
   {
    "duration": 102,
    "start_time": "2023-06-28T15:24:27.252Z"
   },
   {
    "duration": 5,
    "start_time": "2023-06-28T15:24:27.356Z"
   },
   {
    "duration": 143,
    "start_time": "2023-06-28T15:24:27.363Z"
   },
   {
    "duration": 5,
    "start_time": "2023-06-28T15:24:27.508Z"
   },
   {
    "duration": 219,
    "start_time": "2023-06-28T15:24:27.515Z"
   },
   {
    "duration": 116,
    "start_time": "2023-06-28T15:24:27.736Z"
   },
   {
    "duration": 308,
    "start_time": "2023-06-28T15:24:27.854Z"
   },
   {
    "duration": 112,
    "start_time": "2023-06-28T15:24:28.253Z"
   },
   {
    "duration": 696,
    "start_time": "2023-06-28T15:24:28.367Z"
   },
   {
    "duration": 11,
    "start_time": "2023-06-28T15:24:29.065Z"
   },
   {
    "duration": 621,
    "start_time": "2023-06-28T15:24:29.078Z"
   },
   {
    "duration": 12,
    "start_time": "2023-06-28T15:24:29.701Z"
   },
   {
    "duration": 290,
    "start_time": "2023-06-28T15:24:29.714Z"
   },
   {
    "duration": 12,
    "start_time": "2023-06-28T15:24:30.006Z"
   },
   {
    "duration": 55,
    "start_time": "2023-06-28T15:24:30.020Z"
   },
   {
    "duration": 597,
    "start_time": "2023-06-28T15:24:30.077Z"
   },
   {
    "duration": 0,
    "start_time": "2023-06-28T15:24:30.675Z"
   },
   {
    "duration": 0,
    "start_time": "2023-06-28T15:24:30.677Z"
   },
   {
    "duration": 0,
    "start_time": "2023-06-28T15:24:30.678Z"
   },
   {
    "duration": 0,
    "start_time": "2023-06-28T15:24:30.679Z"
   },
   {
    "duration": 0,
    "start_time": "2023-06-28T15:24:30.680Z"
   },
   {
    "duration": 0,
    "start_time": "2023-06-28T15:24:30.682Z"
   },
   {
    "duration": 0,
    "start_time": "2023-06-28T15:24:30.683Z"
   },
   {
    "duration": 0,
    "start_time": "2023-06-28T15:24:30.684Z"
   },
   {
    "duration": 0,
    "start_time": "2023-06-28T15:24:30.684Z"
   },
   {
    "duration": 0,
    "start_time": "2023-06-28T15:24:30.685Z"
   },
   {
    "duration": 0,
    "start_time": "2023-06-28T15:24:30.686Z"
   },
   {
    "duration": 0,
    "start_time": "2023-06-28T15:24:30.687Z"
   },
   {
    "duration": 0,
    "start_time": "2023-06-28T15:24:30.689Z"
   },
   {
    "duration": 0,
    "start_time": "2023-06-28T15:24:30.690Z"
   },
   {
    "duration": 0,
    "start_time": "2023-06-28T15:24:30.691Z"
   },
   {
    "duration": 0,
    "start_time": "2023-06-28T15:24:30.692Z"
   },
   {
    "duration": 0,
    "start_time": "2023-06-28T15:24:30.693Z"
   },
   {
    "duration": 0,
    "start_time": "2023-06-28T15:24:30.694Z"
   },
   {
    "duration": 11,
    "start_time": "2023-06-28T15:29:35.963Z"
   },
   {
    "duration": 440,
    "start_time": "2023-06-28T15:30:24.450Z"
   },
   {
    "duration": 1381,
    "start_time": "2023-06-28T15:30:35.098Z"
   },
   {
    "duration": 3949,
    "start_time": "2023-06-28T15:30:36.481Z"
   },
   {
    "duration": 93,
    "start_time": "2023-06-28T15:30:40.432Z"
   },
   {
    "duration": 20,
    "start_time": "2023-06-28T15:30:40.527Z"
   },
   {
    "duration": 4,
    "start_time": "2023-06-28T15:30:40.549Z"
   },
   {
    "duration": 9,
    "start_time": "2023-06-28T15:30:40.554Z"
   },
   {
    "duration": 7,
    "start_time": "2023-06-28T15:30:40.564Z"
   },
   {
    "duration": 65,
    "start_time": "2023-06-28T15:30:40.572Z"
   },
   {
    "duration": 19,
    "start_time": "2023-06-28T15:30:40.639Z"
   },
   {
    "duration": 6,
    "start_time": "2023-06-28T15:30:40.660Z"
   },
   {
    "duration": 19,
    "start_time": "2023-06-28T15:30:40.667Z"
   },
   {
    "duration": 12,
    "start_time": "2023-06-28T15:30:40.687Z"
   },
   {
    "duration": 6,
    "start_time": "2023-06-28T15:30:40.701Z"
   },
   {
    "duration": 5,
    "start_time": "2023-06-28T15:30:40.710Z"
   },
   {
    "duration": 39,
    "start_time": "2023-06-28T15:30:40.717Z"
   },
   {
    "duration": 12,
    "start_time": "2023-06-28T15:30:40.758Z"
   },
   {
    "duration": 4,
    "start_time": "2023-06-28T15:30:40.772Z"
   },
   {
    "duration": 10,
    "start_time": "2023-06-28T15:30:40.777Z"
   },
   {
    "duration": 158,
    "start_time": "2023-06-28T15:30:40.789Z"
   },
   {
    "duration": 4084,
    "start_time": "2023-06-28T15:30:40.948Z"
   },
   {
    "duration": 69,
    "start_time": "2023-06-28T15:30:45.034Z"
   },
   {
    "duration": 5,
    "start_time": "2023-06-28T15:30:45.105Z"
   },
   {
    "duration": 24,
    "start_time": "2023-06-28T15:30:45.112Z"
   },
   {
    "duration": 43,
    "start_time": "2023-06-28T15:30:45.138Z"
   },
   {
    "duration": 21,
    "start_time": "2023-06-28T15:30:45.183Z"
   },
   {
    "duration": 3,
    "start_time": "2023-06-28T15:30:45.206Z"
   },
   {
    "duration": 20,
    "start_time": "2023-06-28T15:30:45.211Z"
   },
   {
    "duration": 15,
    "start_time": "2023-06-28T15:30:45.233Z"
   },
   {
    "duration": 18,
    "start_time": "2023-06-28T15:30:45.250Z"
   },
   {
    "duration": 13,
    "start_time": "2023-06-28T15:30:45.270Z"
   },
   {
    "duration": 368,
    "start_time": "2023-06-28T15:30:45.285Z"
   },
   {
    "duration": 98,
    "start_time": "2023-06-28T15:30:45.655Z"
   },
   {
    "duration": 8,
    "start_time": "2023-06-28T15:30:45.755Z"
   },
   {
    "duration": 482,
    "start_time": "2023-06-28T15:30:45.764Z"
   },
   {
    "duration": 11,
    "start_time": "2023-06-28T15:30:46.253Z"
   },
   {
    "duration": 15,
    "start_time": "2023-06-28T15:30:46.265Z"
   },
   {
    "duration": 12,
    "start_time": "2023-06-28T15:30:46.282Z"
   },
   {
    "duration": 1750,
    "start_time": "2023-06-28T15:30:46.295Z"
   },
   {
    "duration": 4,
    "start_time": "2023-06-28T15:30:48.053Z"
   },
   {
    "duration": 13435,
    "start_time": "2023-06-28T15:30:48.059Z"
   },
   {
    "duration": 4,
    "start_time": "2023-06-28T15:31:01.498Z"
   },
   {
    "duration": 8890,
    "start_time": "2023-06-28T15:31:01.504Z"
   },
   {
    "duration": 104,
    "start_time": "2023-06-28T15:31:10.396Z"
   },
   {
    "duration": 5,
    "start_time": "2023-06-28T15:31:10.502Z"
   },
   {
    "duration": 124,
    "start_time": "2023-06-28T15:31:10.508Z"
   },
   {
    "duration": 4,
    "start_time": "2023-06-28T15:31:10.634Z"
   },
   {
    "duration": 209,
    "start_time": "2023-06-28T15:31:10.639Z"
   },
   {
    "duration": 104,
    "start_time": "2023-06-28T15:31:10.852Z"
   },
   {
    "duration": 294,
    "start_time": "2023-06-28T15:31:10.958Z"
   },
   {
    "duration": 300,
    "start_time": "2023-06-28T15:31:11.255Z"
   },
   {
    "duration": 574,
    "start_time": "2023-06-28T15:31:11.557Z"
   },
   {
    "duration": 22,
    "start_time": "2023-06-28T15:31:12.133Z"
   },
   {
    "duration": 603,
    "start_time": "2023-06-28T15:31:12.156Z"
   },
   {
    "duration": 12,
    "start_time": "2023-06-28T15:31:12.761Z"
   },
   {
    "duration": 304,
    "start_time": "2023-06-28T15:31:12.774Z"
   },
   {
    "duration": 12,
    "start_time": "2023-06-28T15:31:13.080Z"
   },
   {
    "duration": 7,
    "start_time": "2023-06-28T15:31:13.094Z"
   },
   {
    "duration": 418,
    "start_time": "2023-06-28T15:31:13.103Z"
   },
   {
    "duration": 0,
    "start_time": "2023-06-28T15:31:13.523Z"
   },
   {
    "duration": 0,
    "start_time": "2023-06-28T15:31:13.524Z"
   },
   {
    "duration": 0,
    "start_time": "2023-06-28T15:31:13.526Z"
   },
   {
    "duration": 0,
    "start_time": "2023-06-28T15:31:13.527Z"
   },
   {
    "duration": 0,
    "start_time": "2023-06-28T15:31:13.528Z"
   },
   {
    "duration": 0,
    "start_time": "2023-06-28T15:31:13.529Z"
   },
   {
    "duration": 0,
    "start_time": "2023-06-28T15:31:13.531Z"
   },
   {
    "duration": 0,
    "start_time": "2023-06-28T15:31:13.552Z"
   },
   {
    "duration": 0,
    "start_time": "2023-06-28T15:31:13.554Z"
   },
   {
    "duration": 0,
    "start_time": "2023-06-28T15:31:13.555Z"
   },
   {
    "duration": 0,
    "start_time": "2023-06-28T15:31:13.556Z"
   },
   {
    "duration": 0,
    "start_time": "2023-06-28T15:31:13.558Z"
   },
   {
    "duration": 0,
    "start_time": "2023-06-28T15:31:13.559Z"
   },
   {
    "duration": 0,
    "start_time": "2023-06-28T15:31:13.561Z"
   },
   {
    "duration": 0,
    "start_time": "2023-06-28T15:31:13.563Z"
   },
   {
    "duration": 0,
    "start_time": "2023-06-28T15:31:13.563Z"
   },
   {
    "duration": 0,
    "start_time": "2023-06-28T15:31:13.565Z"
   },
   {
    "duration": 0,
    "start_time": "2023-06-28T15:31:13.566Z"
   },
   {
    "duration": 13,
    "start_time": "2023-06-28T15:31:27.101Z"
   },
   {
    "duration": 5842,
    "start_time": "2023-06-28T15:31:43.598Z"
   },
   {
    "duration": 1453,
    "start_time": "2023-06-28T15:31:49.443Z"
   },
   {
    "duration": 95,
    "start_time": "2023-06-28T15:31:50.898Z"
   },
   {
    "duration": 21,
    "start_time": "2023-06-28T15:31:50.995Z"
   },
   {
    "duration": 4,
    "start_time": "2023-06-28T15:31:51.019Z"
   },
   {
    "duration": 23,
    "start_time": "2023-06-28T15:31:51.025Z"
   },
   {
    "duration": 14,
    "start_time": "2023-06-28T15:31:51.049Z"
   },
   {
    "duration": 81,
    "start_time": "2023-06-28T15:31:51.065Z"
   },
   {
    "duration": 12,
    "start_time": "2023-06-28T15:31:51.148Z"
   },
   {
    "duration": 8,
    "start_time": "2023-06-28T15:31:51.162Z"
   },
   {
    "duration": 24,
    "start_time": "2023-06-28T15:31:51.172Z"
   },
   {
    "duration": 33,
    "start_time": "2023-06-28T15:31:51.198Z"
   },
   {
    "duration": 17,
    "start_time": "2023-06-28T15:31:51.233Z"
   },
   {
    "duration": 15,
    "start_time": "2023-06-28T15:31:51.254Z"
   },
   {
    "duration": 10,
    "start_time": "2023-06-28T15:31:51.270Z"
   },
   {
    "duration": 27,
    "start_time": "2023-06-28T15:31:51.281Z"
   },
   {
    "duration": 14,
    "start_time": "2023-06-28T15:31:51.311Z"
   },
   {
    "duration": 38,
    "start_time": "2023-06-28T15:31:51.327Z"
   },
   {
    "duration": 143,
    "start_time": "2023-06-28T15:31:51.367Z"
   },
   {
    "duration": 4583,
    "start_time": "2023-06-28T15:31:51.512Z"
   },
   {
    "duration": 60,
    "start_time": "2023-06-28T15:31:56.098Z"
   },
   {
    "duration": 5,
    "start_time": "2023-06-28T15:31:56.160Z"
   },
   {
    "duration": 25,
    "start_time": "2023-06-28T15:31:56.166Z"
   },
   {
    "duration": 12,
    "start_time": "2023-06-28T15:31:56.194Z"
   },
   {
    "duration": 36,
    "start_time": "2023-06-28T15:31:56.208Z"
   },
   {
    "duration": 19,
    "start_time": "2023-06-28T15:31:56.246Z"
   },
   {
    "duration": 12,
    "start_time": "2023-06-28T15:31:56.268Z"
   },
   {
    "duration": 47,
    "start_time": "2023-06-28T15:31:56.282Z"
   },
   {
    "duration": 18,
    "start_time": "2023-06-28T15:31:56.331Z"
   },
   {
    "duration": 19,
    "start_time": "2023-06-28T15:31:56.352Z"
   },
   {
    "duration": 83,
    "start_time": "2023-06-28T15:31:56.374Z"
   },
   {
    "duration": 207,
    "start_time": "2023-06-28T15:31:56.460Z"
   },
   {
    "duration": 5,
    "start_time": "2023-06-28T15:31:56.669Z"
   },
   {
    "duration": 524,
    "start_time": "2023-06-28T15:31:56.675Z"
   },
   {
    "duration": 16,
    "start_time": "2023-06-28T15:31:57.200Z"
   },
   {
    "duration": 14,
    "start_time": "2023-06-28T15:31:57.218Z"
   },
   {
    "duration": 20,
    "start_time": "2023-06-28T15:31:57.234Z"
   },
   {
    "duration": 2101,
    "start_time": "2023-06-28T15:31:57.256Z"
   },
   {
    "duration": 4,
    "start_time": "2023-06-28T15:31:59.359Z"
   },
   {
    "duration": 15990,
    "start_time": "2023-06-28T15:31:59.364Z"
   },
   {
    "duration": 15,
    "start_time": "2023-06-28T15:32:15.361Z"
   },
   {
    "duration": 9669,
    "start_time": "2023-06-28T15:32:15.379Z"
   },
   {
    "duration": 104,
    "start_time": "2023-06-28T15:32:25.051Z"
   },
   {
    "duration": 5,
    "start_time": "2023-06-28T15:32:25.157Z"
   },
   {
    "duration": 134,
    "start_time": "2023-06-28T15:32:25.164Z"
   },
   {
    "duration": 8,
    "start_time": "2023-06-28T15:32:25.301Z"
   },
   {
    "duration": 164,
    "start_time": "2023-06-28T15:32:25.311Z"
   },
   {
    "duration": 82,
    "start_time": "2023-06-28T15:32:25.478Z"
   },
   {
    "duration": 296,
    "start_time": "2023-06-28T15:32:25.562Z"
   },
   {
    "duration": 191,
    "start_time": "2023-06-28T15:32:25.864Z"
   },
   {
    "duration": 645,
    "start_time": "2023-06-28T15:32:26.059Z"
   },
   {
    "duration": 14,
    "start_time": "2023-06-28T15:32:26.706Z"
   },
   {
    "duration": 635,
    "start_time": "2023-06-28T15:32:26.722Z"
   },
   {
    "duration": 16,
    "start_time": "2023-06-28T15:32:27.359Z"
   },
   {
    "duration": 310,
    "start_time": "2023-06-28T15:32:27.377Z"
   },
   {
    "duration": 13,
    "start_time": "2023-06-28T15:32:27.689Z"
   },
   {
    "duration": 6,
    "start_time": "2023-06-28T15:32:27.704Z"
   },
   {
    "duration": 657,
    "start_time": "2023-06-28T15:32:27.712Z"
   },
   {
    "duration": 6,
    "start_time": "2023-06-28T15:32:28.371Z"
   },
   {
    "duration": 1996,
    "start_time": "2023-06-28T15:32:28.379Z"
   },
   {
    "duration": 3,
    "start_time": "2023-06-28T15:32:30.377Z"
   },
   {
    "duration": 10750,
    "start_time": "2023-06-28T15:32:30.382Z"
   },
   {
    "duration": 81,
    "start_time": "2023-06-28T15:32:41.135Z"
   },
   {
    "duration": 2815,
    "start_time": "2023-06-28T15:32:41.217Z"
   },
   {
    "duration": 5,
    "start_time": "2023-06-28T15:32:44.034Z"
   },
   {
    "duration": 17047,
    "start_time": "2023-06-28T15:32:44.040Z"
   },
   {
    "duration": 37,
    "start_time": "2023-06-28T15:33:01.089Z"
   },
   {
    "duration": 1385,
    "start_time": "2023-06-28T15:33:01.129Z"
   },
   {
    "duration": 4,
    "start_time": "2023-06-28T15:33:02.516Z"
   },
   {
    "duration": 5809,
    "start_time": "2023-06-28T15:33:02.522Z"
   },
   {
    "duration": 5,
    "start_time": "2023-06-28T15:33:08.335Z"
   },
   {
    "duration": 852,
    "start_time": "2023-06-28T15:33:08.342Z"
   },
   {
    "duration": 21,
    "start_time": "2023-06-28T15:33:09.196Z"
   },
   {
    "duration": 561,
    "start_time": "2023-06-28T15:33:09.219Z"
   },
   {
    "duration": 5,
    "start_time": "2023-06-28T15:33:09.782Z"
   },
   {
    "duration": 100,
    "start_time": "2023-06-28T15:33:09.789Z"
   }
  ],
  "kernelspec": {
   "display_name": "Python 3 (ipykernel)",
   "language": "python",
   "name": "python3"
  },
  "language_info": {
   "codemirror_mode": {
    "name": "ipython",
    "version": 3
   },
   "file_extension": ".py",
   "mimetype": "text/x-python",
   "name": "python",
   "nbconvert_exporter": "python",
   "pygments_lexer": "ipython3",
   "version": "3.9.13"
  },
  "toc": {
   "base_numbering": 1,
   "nav_menu": {},
   "number_sections": true,
   "sideBar": true,
   "skip_h1_title": true,
   "title_cell": "Table of Contents",
   "title_sidebar": "Contents",
   "toc_cell": false,
   "toc_position": {},
   "toc_section_display": true,
   "toc_window_display": false
  }
 },
 "nbformat": 4,
 "nbformat_minor": 1
}
